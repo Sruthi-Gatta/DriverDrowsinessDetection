{
 "cells": [
  {
   "cell_type": "markdown",
   "id": "120582eb-9884-4f6f-b2ab-b96b2cfb76e4",
   "metadata": {},
   "source": [
    "## Convolution layers pretrained using VGG-16"
   ]
  },
  {
   "cell_type": "markdown",
   "id": "5bd08d3f",
   "metadata": {},
   "source": [
    "### Installing Dependencies"
   ]
  },
  {
   "cell_type": "markdown",
   "id": "f8c29bd0-5db0-4c62-9d77-dcca2a9473e7",
   "metadata": {},
   "source": [
    "### Importing Libraries"
   ]
  },
  {
   "cell_type": "code",
   "execution_count": 3,
   "id": "49306459",
   "metadata": {},
   "outputs": [
    {
     "name": "stdout",
     "output_type": "stream",
     "text": [
      "Requirement already satisfied: opencv-python in /Users/ragkayyo/opt/anaconda3/lib/python3.9/site-packages (4.5.5.64)\n",
      "Requirement already satisfied: numpy>=1.19.3 in /Users/ragkayyo/opt/anaconda3/lib/python3.9/site-packages (from opencv-python) (1.20.3)\n",
      "Note: you may need to restart the kernel to use updated packages.\n"
     ]
    }
   ],
   "source": [
    "pip install opencv-python"
   ]
  },
  {
   "cell_type": "code",
   "execution_count": 46,
   "id": "e52222c9",
   "metadata": {},
   "outputs": [
    {
     "name": "stdout",
     "output_type": "stream",
     "text": [
      "Collecting loguru\n",
      "  Downloading loguru-0.6.0-py3-none-any.whl (58 kB)\n",
      "\u001b[K     |████████████████████████████████| 58 kB 3.0 MB/s eta 0:00:011\n",
      "\u001b[?25hInstalling collected packages: loguru\n",
      "Successfully installed loguru-0.6.0\n",
      "Note: you may need to restart the kernel to use updated packages.\n"
     ]
    }
   ],
   "source": [
    "pip install loguru"
   ]
  },
  {
   "cell_type": "code",
   "execution_count": 4,
   "id": "89dea72b-57a6-44f8-83e4-f8cbdc7826b4",
   "metadata": {},
   "outputs": [
    {
     "name": "stdout",
     "output_type": "stream",
     "text": [
      "pygame 2.1.2 (SDL 2.0.18, Python 3.9.7)\n",
      "Hello from the pygame community. https://www.pygame.org/contribute.html\n"
     ]
    }
   ],
   "source": [
    "import os\n",
    "from keras.preprocessing import image\n",
    "import matplotlib.pyplot as plt \n",
    "import numpy as np\n",
    "from keras.utils.np_utils import to_categorical\n",
    "import random,shutil\n",
    "from keras.models import Sequential\n",
    "from keras.layers.recurrent import LSTM\n",
    "from keras.layers import Dropout,Conv2D,Flatten,Dense, MaxPooling2D, BatchNormalization\n",
    "from keras.models import load_model\n",
    "import tensorflow as tf\n",
    "from tensorflow.keras import layers\n",
    "from keras.utils.vis_utils import plot_model\n",
    "\n",
    "from keras.preprocessing.image import ImageDataGenerator\n",
    "from sklearn.metrics import classification_report, confusion_matrix\n",
    "from keras.callbacks import ModelCheckpoint\n",
    "from keras.applications.vgg16 import VGG16\n",
    "from keras.regularizers import l2\n",
    "from loguru import logger\n",
    "\n",
    "import cv2\n",
    "import os\n",
    "from keras.models import load_model\n",
    "from pygame import mixer\n",
    "import time"
   ]
  },
  {
   "cell_type": "markdown",
   "id": "490138c6",
   "metadata": {},
   "source": [
    "### Pretrained using VGG-16 (open and close eyes) without Regularization"
   ]
  },
  {
   "cell_type": "code",
   "execution_count": 8,
   "id": "0025fe98",
   "metadata": {},
   "outputs": [],
   "source": [
    "#Set the batch size\n",
    "batch_size = 128\n",
    "#Data Augmentation using ImageDataGenerator\n",
    "train_datagen = ImageDataGenerator(horizontal_flip = True, \n",
    "                                  rescale = 1./255, \n",
    "                                  zoom_range = 0.2, \n",
    "                                  validation_split = 0.1)\n",
    "\n",
    "test_datagen = ImageDataGenerator(rescale = 1./255)"
   ]
  },
  {
   "cell_type": "code",
   "execution_count": 9,
   "id": "e70df537",
   "metadata": {},
   "outputs": [
    {
     "name": "stdout",
     "output_type": "stream",
     "text": [
      "Found 1234 images belonging to 2 classes.\n",
      "Found 218 images belonging to 2 classes.\n"
     ]
    }
   ],
   "source": [
    "#Generate Train and Test data \n",
    "train_data_path_1 = 'dataset_eyes/train'\n",
    "test_data_path_1 = 'dataset_eyes/test'\n",
    "\n",
    "train_set = train_datagen.flow_from_directory(train_data_path_1, target_size = (256,256),\n",
    "                                              batch_size = batch_size, \n",
    "                                              #color_mode = 'grayscale',\n",
    "                                              class_mode = 'categorical')\n",
    "\n",
    "test_set = test_datagen.flow_from_directory(test_data_path_1, target_size = (256,256),\n",
    "                                              batch_size = batch_size, \n",
    "                                              #color_mode = 'grayscale',\n",
    "                                              class_mode = 'categorical')"
   ]
  },
  {
   "cell_type": "code",
   "execution_count": 10,
   "id": "6c4bda6d",
   "metadata": {},
   "outputs": [
    {
     "name": "stdout",
     "output_type": "stream",
     "text": [
      "<keras.engine.input_layer.InputLayer object at 0x7facfc1ba640> False\n",
      "<keras.layers.convolutional.Conv2D object at 0x7facfc1ba040> False\n",
      "<keras.layers.convolutional.Conv2D object at 0x7facfc1b4040> False\n",
      "<keras.layers.pooling.MaxPooling2D object at 0x7facfc105490> False\n",
      "<keras.layers.convolutional.Conv2D object at 0x7facfc105550> False\n",
      "<keras.layers.convolutional.Conv2D object at 0x7facfc283ac0> False\n",
      "<keras.layers.pooling.MaxPooling2D object at 0x7facfc28c7c0> False\n",
      "<keras.layers.convolutional.Conv2D object at 0x7facfc28c400> False\n",
      "<keras.layers.convolutional.Conv2D object at 0x7facfc28b370> False\n",
      "<keras.layers.convolutional.Conv2D object at 0x7facfc317640> False\n",
      "<keras.layers.pooling.MaxPooling2D object at 0x7facfc31bd60> False\n",
      "<keras.layers.convolutional.Conv2D object at 0x7facfc31b880> False\n",
      "<keras.layers.convolutional.Conv2D object at 0x7fad0358d610> False\n",
      "<keras.layers.convolutional.Conv2D object at 0x7fad03592820> False\n",
      "<keras.layers.pooling.MaxPooling2D object at 0x7fad0358d9a0> False\n",
      "<keras.layers.convolutional.Conv2D object at 0x7facfc28b940> False\n",
      "<keras.layers.convolutional.Conv2D object at 0x7fad035a1220> False\n",
      "<keras.layers.convolutional.Conv2D object at 0x7fad03599610> False\n",
      "<keras.layers.pooling.MaxPooling2D object at 0x7fad035a6970> False\n"
     ]
    }
   ],
   "source": [
    "# Initialize the VGG model\n",
    "vgg1 = VGG16(\n",
    "    include_top=False, weights='imagenet', input_tensor=None, input_shape= (256,256,3),\n",
    ")\n",
    "\n",
    "# Freeze all the layers\n",
    "for layer in vgg1.layers[:]:\n",
    "    layer.trainable = False\n",
    "\n",
    "# Check the trainable status of the individual layers\n",
    "for layer in vgg1.layers:\n",
    "    print(layer, layer.trainable)"
   ]
  },
  {
   "cell_type": "code",
   "execution_count": 11,
   "id": "ad2eb91a",
   "metadata": {},
   "outputs": [
    {
     "name": "stdout",
     "output_type": "stream",
     "text": [
      "Model: \"sequential\"\n",
      "_________________________________________________________________\n",
      " Layer (type)                Output Shape              Param #   \n",
      "=================================================================\n",
      " vgg16 (Functional)          (None, 8, 8, 512)         14714688  \n",
      "                                                                 \n",
      " flatten (Flatten)           (None, 32768)             0         \n",
      "                                                                 \n",
      " dense (Dense)               (None, 64)                2097216   \n",
      "                                                                 \n",
      " dropout (Dropout)           (None, 64)                0         \n",
      "                                                                 \n",
      " dense_1 (Dense)             (None, 2)                 130       \n",
      "                                                                 \n",
      "=================================================================\n",
      "Total params: 16,812,034\n",
      "Trainable params: 2,097,346\n",
      "Non-trainable params: 14,714,688\n",
      "_________________________________________________________________\n"
     ]
    }
   ],
   "source": [
    "classes = 2\n",
    "# Create the model\n",
    "model_eyenoreg = Sequential()\n",
    "\n",
    "# Add the vgg convolutional base model\n",
    "model_eyenoreg.add(vgg1)\n",
    "\n",
    "# Add new layers\n",
    "model_eyenoreg.add(Flatten())\n",
    "model_eyenoreg.add(Dense(64, activation='relu', ))\n",
    "model_eyenoreg.add(Dropout(0.5))\n",
    "model_eyenoreg.add(Dense(classes, activation='softmax'))\n",
    "\n",
    "\n",
    "\n",
    "# Show a summary of the model. Check the number of trainable parameters\n",
    "model_eyenoreg.summary()"
   ]
  },
  {
   "cell_type": "code",
   "execution_count": 12,
   "id": "6dac7071",
   "metadata": {},
   "outputs": [],
   "source": [
    "# Configure the model for training\n",
    "model_eyenoreg.compile(loss = 'categorical_crossentropy',optimizer = 'adam' , metrics = ['accuracy'])"
   ]
  },
  {
   "cell_type": "code",
   "execution_count": 13,
   "id": "c51d4e1b",
   "metadata": {},
   "outputs": [],
   "source": [
    "#Save the model\n",
    "model_eyenoreg_path=\"detection1.h5\"\n",
    "\n",
    "#Create checkpoint to save a model at some interval so that it can be used for training\n",
    "checkpoint = ModelCheckpoint(model_eyenoreg_path, monitor='val_accuracy', verbose=1, \n",
    "                              save_best_only=True, mode='max')\n",
    "\n",
    "callbacks_list = [checkpoint]"
   ]
  },
  {
   "cell_type": "code",
   "execution_count": 14,
   "id": "430f3239",
   "metadata": {},
   "outputs": [],
   "source": [
    "#Define the Number of Iteration\n",
    "num_epochs = 50\n",
    "training_steps=train_set.n//train_set.batch_size\n",
    "validation_steps =test_set.n//test_set.batch_size"
   ]
  },
  {
   "cell_type": "code",
   "execution_count": 15,
   "id": "8c8343d0",
   "metadata": {},
   "outputs": [
    {
     "name": "stdout",
     "output_type": "stream",
     "text": [
      "Epoch 1/50\n",
      "9/9 [==============================] - ETA: 0s - loss: 1.3908 - accuracy: 0.4801 \n",
      "Epoch 1: val_accuracy improved from -inf to 0.53906, saving model to detection1.h5\n",
      "9/9 [==============================] - 141s 15s/step - loss: 1.3908 - accuracy: 0.4801 - val_loss: 0.6480 - val_accuracy: 0.5391\n",
      "Epoch 2/50\n",
      "9/9 [==============================] - ETA: 0s - loss: 0.6235 - accuracy: 0.5018 \n",
      "Epoch 2: val_accuracy did not improve from 0.53906\n",
      "9/9 [==============================] - 135s 15s/step - loss: 0.6235 - accuracy: 0.5018 - val_loss: 0.5238 - val_accuracy: 0.4766\n",
      "Epoch 3/50\n",
      "9/9 [==============================] - ETA: 0s - loss: 0.5602 - accuracy: 0.5741 \n",
      "Epoch 3: val_accuracy improved from 0.53906 to 0.67188, saving model to detection1.h5\n",
      "9/9 [==============================] - 148s 17s/step - loss: 0.5602 - accuracy: 0.5741 - val_loss: 0.4855 - val_accuracy: 0.6719\n",
      "Epoch 4/50\n",
      "9/9 [==============================] - ETA: 0s - loss: 0.5156 - accuracy: 0.7685 \n",
      "Epoch 4: val_accuracy improved from 0.67188 to 0.86719, saving model to detection1.h5\n",
      "9/9 [==============================] - 166s 19s/step - loss: 0.5156 - accuracy: 0.7685 - val_loss: 0.4327 - val_accuracy: 0.8672\n",
      "Epoch 5/50\n",
      "9/9 [==============================] - ETA: 0s - loss: 0.5024 - accuracy: 0.7749 \n",
      "Epoch 5: val_accuracy improved from 0.86719 to 0.87500, saving model to detection1.h5\n",
      "9/9 [==============================] - 186s 21s/step - loss: 0.5024 - accuracy: 0.7749 - val_loss: 0.4513 - val_accuracy: 0.8750\n",
      "Epoch 6/50\n",
      "9/9 [==============================] - ETA: 0s - loss: 0.4914 - accuracy: 0.8011 \n",
      "Epoch 6: val_accuracy did not improve from 0.87500\n",
      "9/9 [==============================] - 205s 23s/step - loss: 0.4914 - accuracy: 0.8011 - val_loss: 0.3850 - val_accuracy: 0.8672\n",
      "Epoch 7/50\n",
      "9/9 [==============================] - ETA: 0s - loss: 0.4751 - accuracy: 0.8201 \n",
      "Epoch 7: val_accuracy improved from 0.87500 to 0.90625, saving model to detection1.h5\n",
      "9/9 [==============================] - 231s 26s/step - loss: 0.4751 - accuracy: 0.8201 - val_loss: 0.4124 - val_accuracy: 0.9062\n",
      "Epoch 8/50\n",
      "9/9 [==============================] - ETA: 0s - loss: 0.4589 - accuracy: 0.8363 \n",
      "Epoch 8: val_accuracy improved from 0.90625 to 0.92969, saving model to detection1.h5\n",
      "9/9 [==============================] - 202s 22s/step - loss: 0.4589 - accuracy: 0.8363 - val_loss: 0.4348 - val_accuracy: 0.9297\n",
      "Epoch 9/50\n",
      "9/9 [==============================] - ETA: 0s - loss: 0.4712 - accuracy: 0.8246 \n",
      "Epoch 9: val_accuracy did not improve from 0.92969\n",
      "9/9 [==============================] - 179s 20s/step - loss: 0.4712 - accuracy: 0.8246 - val_loss: 0.4170 - val_accuracy: 0.9297\n",
      "Epoch 10/50\n",
      "9/9 [==============================] - ETA: 0s - loss: 0.4593 - accuracy: 0.8318 \n",
      "Epoch 10: val_accuracy improved from 0.92969 to 0.94531, saving model to detection1.h5\n",
      "9/9 [==============================] - 200s 22s/step - loss: 0.4593 - accuracy: 0.8318 - val_loss: 0.3516 - val_accuracy: 0.9453\n",
      "Epoch 11/50\n",
      "9/9 [==============================] - ETA: 0s - loss: 0.4599 - accuracy: 0.8246 \n",
      "Epoch 11: val_accuracy improved from 0.94531 to 0.96875, saving model to detection1.h5\n",
      "9/9 [==============================] - 216s 24s/step - loss: 0.4599 - accuracy: 0.8246 - val_loss: 0.3722 - val_accuracy: 0.9688\n",
      "Epoch 12/50\n",
      "9/9 [==============================] - ETA: 0s - loss: 0.4462 - accuracy: 0.8409 \n",
      "Epoch 12: val_accuracy did not improve from 0.96875\n",
      "9/9 [==============================] - 181s 20s/step - loss: 0.4462 - accuracy: 0.8409 - val_loss: 0.3985 - val_accuracy: 0.9609\n",
      "Epoch 13/50\n",
      "9/9 [==============================] - ETA: 0s - loss: 0.4672 - accuracy: 0.8203 \n",
      "Epoch 13: val_accuracy did not improve from 0.96875\n",
      "9/9 [==============================] - 165s 18s/step - loss: 0.4672 - accuracy: 0.8203 - val_loss: 0.3607 - val_accuracy: 0.9688\n",
      "Epoch 14/50\n",
      "9/9 [==============================] - ETA: 0s - loss: 0.4367 - accuracy: 0.8463 \n",
      "Epoch 14: val_accuracy did not improve from 0.96875\n",
      "9/9 [==============================] - 163s 18s/step - loss: 0.4367 - accuracy: 0.8463 - val_loss: 0.3730 - val_accuracy: 0.9688\n",
      "Epoch 15/50\n",
      "9/9 [==============================] - ETA: 0s - loss: 0.4316 - accuracy: 0.8535 \n",
      "Epoch 15: val_accuracy did not improve from 0.96875\n",
      "9/9 [==============================] - 177s 20s/step - loss: 0.4316 - accuracy: 0.8535 - val_loss: 0.3500 - val_accuracy: 0.9375\n",
      "Epoch 16/50\n",
      "9/9 [==============================] - ETA: 0s - loss: 0.4210 - accuracy: 0.8599 \n",
      "Epoch 16: val_accuracy did not improve from 0.96875\n",
      "9/9 [==============================] - 153s 16s/step - loss: 0.4210 - accuracy: 0.8599 - val_loss: 0.3468 - val_accuracy: 0.9688\n",
      "Epoch 17/50\n",
      "9/9 [==============================] - ETA: 0s - loss: 0.4157 - accuracy: 0.8580 \n",
      "Epoch 17: val_accuracy did not improve from 0.96875\n",
      "9/9 [==============================] - 156s 18s/step - loss: 0.4157 - accuracy: 0.8580 - val_loss: 0.3477 - val_accuracy: 0.9609\n",
      "Epoch 18/50\n",
      "9/9 [==============================] - ETA: 0s - loss: 0.4209 - accuracy: 0.8526 \n",
      "Epoch 18: val_accuracy did not improve from 0.96875\n",
      "9/9 [==============================] - 154s 18s/step - loss: 0.4209 - accuracy: 0.8526 - val_loss: 0.3379 - val_accuracy: 0.9531\n",
      "Epoch 19/50\n",
      "9/9 [==============================] - ETA: 0s - loss: 0.4194 - accuracy: 0.8498 \n",
      "Epoch 19: val_accuracy did not improve from 0.96875\n",
      "9/9 [==============================] - 158s 17s/step - loss: 0.4194 - accuracy: 0.8498 - val_loss: 0.3380 - val_accuracy: 0.9609\n",
      "Epoch 20/50\n",
      "9/9 [==============================] - ETA: 0s - loss: 0.4062 - accuracy: 0.8580 \n",
      "Epoch 20: val_accuracy did not improve from 0.96875\n",
      "9/9 [==============================] - 146s 16s/step - loss: 0.4062 - accuracy: 0.8580 - val_loss: 0.3556 - val_accuracy: 0.9531\n",
      "Epoch 21/50\n",
      "9/9 [==============================] - ETA: 0s - loss: 0.4242 - accuracy: 0.8420 \n",
      "Epoch 21: val_accuracy did not improve from 0.96875\n",
      "9/9 [==============================] - 154s 17s/step - loss: 0.4242 - accuracy: 0.8420 - val_loss: 0.3430 - val_accuracy: 0.9609\n",
      "Epoch 22/50\n",
      "9/9 [==============================] - ETA: 0s - loss: 0.3897 - accuracy: 0.8671 \n",
      "Epoch 22: val_accuracy did not improve from 0.96875\n",
      "9/9 [==============================] - 152s 17s/step - loss: 0.3897 - accuracy: 0.8671 - val_loss: 0.3373 - val_accuracy: 0.9609\n",
      "Epoch 23/50\n",
      "9/9 [==============================] - ETA: 0s - loss: 0.4075 - accuracy: 0.8508 \n",
      "Epoch 23: val_accuracy did not improve from 0.96875\n",
      "9/9 [==============================] - 149s 17s/step - loss: 0.4075 - accuracy: 0.8508 - val_loss: 0.3558 - val_accuracy: 0.9531\n",
      "Epoch 24/50\n",
      "9/9 [==============================] - ETA: 0s - loss: 0.3899 - accuracy: 0.8672 \n",
      "Epoch 24: val_accuracy improved from 0.96875 to 0.98438, saving model to detection1.h5\n",
      "9/9 [==============================] - 153s 17s/step - loss: 0.3899 - accuracy: 0.8672 - val_loss: 0.2962 - val_accuracy: 0.9844\n",
      "Epoch 25/50\n",
      "9/9 [==============================] - ETA: 0s - loss: 0.3862 - accuracy: 0.8752 \n",
      "Epoch 25: val_accuracy did not improve from 0.98438\n",
      "9/9 [==============================] - 147s 17s/step - loss: 0.3862 - accuracy: 0.8752 - val_loss: 0.3203 - val_accuracy: 0.9766\n",
      "Epoch 26/50\n",
      "9/9 [==============================] - ETA: 0s - loss: 0.3976 - accuracy: 0.8580 \n",
      "Epoch 26: val_accuracy did not improve from 0.98438\n",
      "9/9 [==============================] - 146s 16s/step - loss: 0.3976 - accuracy: 0.8580 - val_loss: 0.2853 - val_accuracy: 0.9766\n",
      "Epoch 27/50\n",
      "9/9 [==============================] - ETA: 0s - loss: 0.3816 - accuracy: 0.8716 \n",
      "Epoch 27: val_accuracy did not improve from 0.98438\n",
      "9/9 [==============================] - 149s 17s/step - loss: 0.3816 - accuracy: 0.8716 - val_loss: 0.2995 - val_accuracy: 0.9609\n",
      "Epoch 28/50\n",
      "9/9 [==============================] - ETA: 0s - loss: 0.3892 - accuracy: 0.8671  \n",
      "Epoch 28: val_accuracy did not improve from 0.98438\n",
      "9/9 [==============================] - 2200s 273s/step - loss: 0.3892 - accuracy: 0.8671 - val_loss: 0.2651 - val_accuracy: 0.9766\n",
      "Epoch 29/50\n",
      "9/9 [==============================] - ETA: 0s - loss: 0.3855 - accuracy: 0.8644  \n",
      "Epoch 29: val_accuracy did not improve from 0.98438\n",
      "9/9 [==============================] - 934s 112s/step - loss: 0.3855 - accuracy: 0.8644 - val_loss: 0.2722 - val_accuracy: 0.9766\n"
     ]
    },
    {
     "name": "stdout",
     "output_type": "stream",
     "text": [
      "Epoch 30/50\n",
      "9/9 [==============================] - ETA: 0s - loss: 0.3859 - accuracy: 0.8698 \n",
      "Epoch 30: val_accuracy did not improve from 0.98438\n",
      "9/9 [==============================] - 140s 16s/step - loss: 0.3859 - accuracy: 0.8698 - val_loss: 0.2986 - val_accuracy: 0.9688\n",
      "Epoch 31/50\n",
      "9/9 [==============================] - ETA: 0s - loss: 0.3935 - accuracy: 0.8499 \n",
      "Epoch 31: val_accuracy did not improve from 0.98438\n",
      "9/9 [==============================] - 151s 17s/step - loss: 0.3935 - accuracy: 0.8499 - val_loss: 0.3019 - val_accuracy: 0.9609\n",
      "Epoch 32/50\n",
      "9/9 [==============================] - ETA: 0s - loss: 0.3861 - accuracy: 0.8599 \n",
      "Epoch 32: val_accuracy did not improve from 0.98438\n",
      "9/9 [==============================] - 156s 17s/step - loss: 0.3861 - accuracy: 0.8599 - val_loss: 0.2668 - val_accuracy: 0.9844\n",
      "Epoch 33/50\n",
      "9/9 [==============================] - ETA: 0s - loss: 0.3883 - accuracy: 0.8535 \n",
      "Epoch 33: val_accuracy did not improve from 0.98438\n",
      "9/9 [==============================] - 164s 18s/step - loss: 0.3883 - accuracy: 0.8535 - val_loss: 0.2892 - val_accuracy: 0.9766\n",
      "Epoch 34/50\n",
      "9/9 [==============================] - ETA: 0s - loss: 0.3823 - accuracy: 0.8608 \n",
      "Epoch 34: val_accuracy did not improve from 0.98438\n",
      "9/9 [==============================] - 169s 19s/step - loss: 0.3823 - accuracy: 0.8608 - val_loss: 0.2910 - val_accuracy: 0.9688\n",
      "Epoch 35/50\n",
      "9/9 [==============================] - ETA: 0s - loss: 0.3518 - accuracy: 0.8861 \n",
      "Epoch 35: val_accuracy did not improve from 0.98438\n",
      "9/9 [==============================] - 183s 21s/step - loss: 0.3518 - accuracy: 0.8861 - val_loss: 0.2888 - val_accuracy: 0.9531\n",
      "Epoch 36/50\n",
      "9/9 [==============================] - ETA: 0s - loss: 0.3746 - accuracy: 0.8599 \n",
      "Epoch 36: val_accuracy did not improve from 0.98438\n",
      "9/9 [==============================] - 179s 20s/step - loss: 0.3746 - accuracy: 0.8599 - val_loss: 0.2805 - val_accuracy: 0.9766\n",
      "Epoch 37/50\n",
      "9/9 [==============================] - ETA: 0s - loss: 0.3752 - accuracy: 0.8617 \n",
      "Epoch 37: val_accuracy did not improve from 0.98438\n",
      "9/9 [==============================] - 177s 21s/step - loss: 0.3752 - accuracy: 0.8617 - val_loss: 0.2614 - val_accuracy: 0.9688\n",
      "Epoch 38/50\n",
      "9/9 [==============================] - ETA: 0s - loss: 0.3684 - accuracy: 0.8653 \n",
      "Epoch 38: val_accuracy did not improve from 0.98438\n",
      "9/9 [==============================] - 177s 20s/step - loss: 0.3684 - accuracy: 0.8653 - val_loss: 0.2737 - val_accuracy: 0.9688\n",
      "Epoch 39/50\n",
      "9/9 [==============================] - ETA: 0s - loss: 0.3834 - accuracy: 0.8517 \n",
      "Epoch 39: val_accuracy did not improve from 0.98438\n",
      "9/9 [==============================] - 177s 20s/step - loss: 0.3834 - accuracy: 0.8517 - val_loss: 0.2701 - val_accuracy: 0.9844\n",
      "Epoch 40/50\n",
      "9/9 [==============================] - ETA: 0s - loss: 0.3717 - accuracy: 0.8617 \n",
      "Epoch 40: val_accuracy did not improve from 0.98438\n",
      "9/9 [==============================] - 175s 20s/step - loss: 0.3717 - accuracy: 0.8617 - val_loss: 0.3029 - val_accuracy: 0.9609\n",
      "Epoch 41/50\n",
      "9/9 [==============================] - ETA: 0s - loss: 0.3445 - accuracy: 0.8797 \n",
      "Epoch 41: val_accuracy did not improve from 0.98438\n",
      "9/9 [==============================] - 176s 20s/step - loss: 0.3445 - accuracy: 0.8797 - val_loss: 0.2846 - val_accuracy: 0.9688\n",
      "Epoch 42/50\n",
      "9/9 [==============================] - ETA: 0s - loss: 0.3498 - accuracy: 0.8779 \n",
      "Epoch 42: val_accuracy did not improve from 0.98438\n",
      "9/9 [==============================] - 178s 20s/step - loss: 0.3498 - accuracy: 0.8779 - val_loss: 0.2738 - val_accuracy: 0.9688\n",
      "Epoch 43/50\n",
      "9/9 [==============================] - ETA: 0s - loss: 0.3856 - accuracy: 0.8445 \n",
      "Epoch 43: val_accuracy did not improve from 0.98438\n",
      "9/9 [==============================] - 161s 18s/step - loss: 0.3856 - accuracy: 0.8445 - val_loss: 0.2663 - val_accuracy: 0.9766\n",
      "Epoch 44/50\n",
      "9/9 [==============================] - ETA: 0s - loss: 0.3658 - accuracy: 0.8646 \n",
      "Epoch 44: val_accuracy did not improve from 0.98438\n",
      "9/9 [==============================] - 161s 18s/step - loss: 0.3658 - accuracy: 0.8646 - val_loss: 0.2885 - val_accuracy: 0.9688\n",
      "Epoch 45/50\n",
      "9/9 [==============================] - ETA: 0s - loss: 0.3723 - accuracy: 0.8499 \n",
      "Epoch 45: val_accuracy did not improve from 0.98438\n",
      "9/9 [==============================] - 156s 17s/step - loss: 0.3723 - accuracy: 0.8499 - val_loss: 0.2759 - val_accuracy: 0.9609\n",
      "Epoch 46/50\n",
      "9/9 [==============================] - ETA: 0s - loss: 0.3740 - accuracy: 0.8516 \n",
      "Epoch 46: val_accuracy did not improve from 0.98438\n",
      "9/9 [==============================] - 164s 18s/step - loss: 0.3740 - accuracy: 0.8516 - val_loss: 0.2625 - val_accuracy: 0.9766\n",
      "Epoch 47/50\n",
      "9/9 [==============================] - ETA: 0s - loss: 0.3485 - accuracy: 0.8816 \n",
      "Epoch 47: val_accuracy did not improve from 0.98438\n",
      "9/9 [==============================] - 162s 18s/step - loss: 0.3485 - accuracy: 0.8816 - val_loss: 0.2688 - val_accuracy: 0.9688\n",
      "Epoch 48/50\n",
      "9/9 [==============================] - ETA: 0s - loss: 0.3624 - accuracy: 0.8599 \n",
      "Epoch 48: val_accuracy did not improve from 0.98438\n",
      "9/9 [==============================] - 165s 18s/step - loss: 0.3624 - accuracy: 0.8599 - val_loss: 0.2585 - val_accuracy: 0.9688\n",
      "Epoch 49/50\n",
      "9/9 [==============================] - ETA: 0s - loss: 0.3760 - accuracy: 0.8454 \n",
      "Epoch 49: val_accuracy did not improve from 0.98438\n",
      "9/9 [==============================] - 164s 19s/step - loss: 0.3760 - accuracy: 0.8454 - val_loss: 0.2415 - val_accuracy: 0.9844\n",
      "Epoch 50/50\n",
      "9/9 [==============================] - ETA: 0s - loss: 0.3580 - accuracy: 0.8635 \n",
      "Epoch 50: val_accuracy did not improve from 0.98438\n",
      "9/9 [==============================] - 158s 18s/step - loss: 0.3580 - accuracy: 0.8635 - val_loss: 0.2682 - val_accuracy: 0.9688\n",
      "Total time:  11145.20721077919 seconds\n"
     ]
    }
   ],
   "source": [
    "import time\n",
    "start = time.time()\n",
    "# Train the model\n",
    "history1 = model_eyenoreg.fit(train_set, epochs=num_epochs, steps_per_epoch=training_steps,validation_data=test_set,\n",
    "                    validation_steps=validation_steps, callbacks = callbacks_list)\n",
    "print(\"Total time: \", time.time() - start, \"seconds\")"
   ]
  },
  {
   "cell_type": "code",
   "execution_count": 42,
   "id": "cbe0fe2c",
   "metadata": {},
   "outputs": [],
   "source": [
    "def visualize_results(history):\n",
    "    # Plot the accuracy and loss curves\n",
    "    acc = history.history['accuracy']\n",
    "    val_acc = history.history['val_accuracy']\n",
    "    loss = history.history['loss']\n",
    "    val_loss = history.history['val_loss']\n",
    "    \n",
    "    epochs = range(len(acc))\n",
    "    \n",
    "    \n",
    " \n",
    "    plt.plot(epochs, acc, label='Training acc')\n",
    "    plt.plot(epochs, val_acc, label='Validation acc')\n",
    "    plt.title('Training and validation accuracy')\n",
    "    plt.legend()\n",
    "\n",
    "    plt.figure()\n",
    "\n",
    "    plt.plot(epochs, loss, label='Training loss')\n",
    "    plt.plot(epochs, val_loss, label='Validation loss')\n",
    "    plt.title('Training and validation loss')\n",
    "    plt.legend()\n",
    "\n",
    "    plt.show()\n"
   ]
  },
  {
   "cell_type": "code",
   "execution_count": 43,
   "id": "e2d6b035",
   "metadata": {},
   "outputs": [
    {
     "data": {
      "image/png": "[encoded data removed]",
      "text/plain": [
       "<Figure size 432x288 with 1 Axes>"
      ]
     },
     "metadata": {
      "needs_background": "light"
     },
     "output_type": "display_data"
    },
    {
     "data": {
      "image/png": "[encoded data removed]",
      "text/plain": [
       "<Figure size 432x288 with 1 Axes>"
      ]
     },
     "metadata": {
      "needs_background": "light"
     },
     "output_type": "display_data"
    }
   ],
   "source": [
    "# Run the function to illustrate accuracy and loss\n",
    "visualize_results(history1)"
   ]
  },
  {
   "cell_type": "markdown",
   "id": "c1c64098",
   "metadata": {},
   "source": [
    "### Pretrained using VGG-16 (open and close eyes) with Regularization"
   ]
  },
  {
   "cell_type": "code",
   "execution_count": 22,
   "id": "dcc5f561",
   "metadata": {},
   "outputs": [],
   "source": [
    "#Set the batch size\n",
    "batch_size = 128\n",
    "#Data Augmentation using ImageDataGenerator\n",
    "train_datagen = ImageDataGenerator(horizontal_flip = True, \n",
    "                                  rescale = 1./255, \n",
    "                                  zoom_range = 0.2, \n",
    "                                  validation_split = 0.1)\n",
    "\n",
    "test_datagen = ImageDataGenerator(rescale = 1./255)"
   ]
  },
  {
   "cell_type": "code",
   "execution_count": 23,
   "id": "ee0da6bd",
   "metadata": {},
   "outputs": [
    {
     "name": "stdout",
     "output_type": "stream",
     "text": [
      "Found 1234 images belonging to 2 classes.\n",
      "Found 218 images belonging to 2 classes.\n"
     ]
    }
   ],
   "source": [
    "#Generate Train and Test data \n",
    "train_data_path_1 = 'dataset_eyes/train'\n",
    "test_data_path_1 = 'dataset_eyes/test'\n",
    "\n",
    "train_set = train_datagen.flow_from_directory(train_data_path_1, target_size = (256,256),\n",
    "                                              batch_size = batch_size, \n",
    "                                              #color_mode = 'grayscale',\n",
    "                                              class_mode = 'categorical')\n",
    "\n",
    "test_set = test_datagen.flow_from_directory(test_data_path_1, target_size = (256,256),\n",
    "                                              batch_size = batch_size, \n",
    "                                              #color_mode = 'grayscale',\n",
    "                                              class_mode = 'categorical')"
   ]
  },
  {
   "cell_type": "code",
   "execution_count": 24,
   "id": "7c8205b2",
   "metadata": {},
   "outputs": [
    {
     "name": "stdout",
     "output_type": "stream",
     "text": [
      "<keras.engine.input_layer.InputLayer object at 0x7fa11a62f790> False\n",
      "<keras.layers.convolutional.Conv2D object at 0x7fa11a62fc40> False\n",
      "<keras.layers.convolutional.Conv2D object at 0x7fa11a2cd940> False\n",
      "<keras.layers.pooling.MaxPooling2D object at 0x7fa11a5873a0> False\n",
      "<keras.layers.convolutional.Conv2D object at 0x7fa11a90fa60> False\n",
      "<keras.layers.convolutional.Conv2D object at 0x7fa11a740b80> False\n",
      "<keras.layers.pooling.MaxPooling2D object at 0x7fa11a592520> False\n",
      "<keras.layers.convolutional.Conv2D object at 0x7fa11a592160> False\n",
      "<keras.layers.convolutional.Conv2D object at 0x7fa11a5981c0> False\n",
      "<keras.layers.convolutional.Conv2D object at 0x7fa11a59b3a0> False\n",
      "<keras.layers.pooling.MaxPooling2D object at 0x7fa11a598d30> False\n",
      "<keras.layers.convolutional.Conv2D object at 0x7fa11a59b5e0> False\n",
      "<keras.layers.convolutional.Conv2D object at 0x7fa11a5a9af0> False\n",
      "<keras.layers.convolutional.Conv2D object at 0x7fa11a5afbb0> False\n",
      "<keras.layers.pooling.MaxPooling2D object at 0x7fa11a5a9220> False\n",
      "<keras.layers.convolutional.Conv2D object at 0x7fa11a5a9430> False\n",
      "<keras.layers.convolutional.Conv2D object at 0x7fa11a5b6cd0> False\n",
      "<keras.layers.convolutional.Conv2D object at 0x7fa11a5b31f0> False\n",
      "<keras.layers.pooling.MaxPooling2D object at 0x7fa11a5c1a60> False\n"
     ]
    }
   ],
   "source": [
    "# Initialize the VGG model\n",
    "vgg1 = VGG16(\n",
    "    include_top=False, weights='imagenet', input_tensor=None, input_shape= (256,256,3),\n",
    ")\n",
    "\n",
    "# Freeze all the layers\n",
    "for layer in vgg1.layers[:]:\n",
    "    layer.trainable = False\n",
    "\n",
    "# Check the trainable status of the individual layers\n",
    "for layer in vgg1.layers:\n",
    "    print(layer, layer.trainable)"
   ]
  },
  {
   "cell_type": "code",
   "execution_count": 25,
   "id": "2a95ae40",
   "metadata": {},
   "outputs": [
    {
     "name": "stdout",
     "output_type": "stream",
     "text": [
      "Model: \"sequential_1\"\n",
      "_________________________________________________________________\n",
      " Layer (type)                Output Shape              Param #   \n",
      "=================================================================\n",
      " vgg16 (Functional)          (None, 8, 8, 512)         14714688  \n",
      "                                                                 \n",
      " flatten_1 (Flatten)         (None, 32768)             0         \n",
      "                                                                 \n",
      " dense_2 (Dense)             (None, 64)                2097216   \n",
      "                                                                 \n",
      " dropout_1 (Dropout)         (None, 64)                0         \n",
      "                                                                 \n",
      " dense_3 (Dense)             (None, 2)                 130       \n",
      "                                                                 \n",
      "=================================================================\n",
      "Total params: 16,812,034\n",
      "Trainable params: 2,097,346\n",
      "Non-trainable params: 14,714,688\n",
      "_________________________________________________________________\n"
     ]
    }
   ],
   "source": [
    "classes = 2\n",
    "# Create the model\n",
    "model_eyereg = Sequential()\n",
    "\n",
    "# Add the vgg convolutional base model\n",
    "model_eyereg.add(vgg1)\n",
    "\n",
    "# Add new layers\n",
    "model_eyereg.add(Flatten())\n",
    "model_eyereg.add(Dense(64, activation='relu', kernel_regularizer=l2(0.01)))\n",
    "model_eyereg.add(Dropout(0.5))\n",
    "model_eyereg.add(Dense(classes, activation='softmax', kernel_regularizer=l2(0.01)))\n",
    "\n",
    "\n",
    "\n",
    "# Show a summary of the model. Check the number of trainable parameters\n",
    "model_eyereg.summary()"
   ]
  },
  {
   "cell_type": "code",
   "execution_count": 30,
   "id": "ee51b7b6",
   "metadata": {},
   "outputs": [],
   "source": [
    "# Configure the model for training\n",
    "model_eyereg.compile(loss = 'categorical_crossentropy',optimizer = 'adam' , metrics = ['accuracy'])"
   ]
  },
  {
   "cell_type": "code",
   "execution_count": 31,
   "id": "3c65638b",
   "metadata": {},
   "outputs": [],
   "source": [
    "#Save the model\n",
    "model_eyereg_path=\"detection4.h5\"\n",
    "#Create checkpoint to save a model at some interval so that it can be used for training\n",
    "checkpoint = ModelCheckpoint(model_eyereg_path, monitor='val_accuracy', verbose=1, \n",
    "                              save_best_only=True, mode='max')\n",
    "\n",
    "callbacks_list = [checkpoint]"
   ]
  },
  {
   "cell_type": "code",
   "execution_count": 32,
   "id": "8b14878a",
   "metadata": {},
   "outputs": [],
   "source": [
    "#Define the Number of Iteration\n",
    "num_epochs = 50\n",
    "training_steps=train_set.n//train_set.batch_size\n",
    "validation_steps =test_set.n//test_set.batch_size"
   ]
  },
  {
   "cell_type": "code",
   "execution_count": 33,
   "id": "27db8843",
   "metadata": {},
   "outputs": [
    {
     "name": "stdout",
     "output_type": "stream",
     "text": [
      "Epoch 1/50\n",
      "9/9 [==============================] - ETA: 0s - loss: 2.0635 - accuracy: 0.6102 \n",
      "Epoch 1: val_accuracy improved from -inf to 0.77344, saving model to detection4.h5\n",
      "9/9 [==============================] - 160s 18s/step - loss: 2.0635 - accuracy: 0.6102 - val_loss: 0.9745 - val_accuracy: 0.7734\n",
      "Epoch 2/50\n",
      "9/9 [==============================] - ETA: 0s - loss: 0.8595 - accuracy: 0.7929 \n",
      "Epoch 2: val_accuracy improved from 0.77344 to 0.89844, saving model to detection4.h5\n",
      "9/9 [==============================] - 162s 18s/step - loss: 0.8595 - accuracy: 0.7929 - val_loss: 0.6502 - val_accuracy: 0.8984\n",
      "Epoch 3/50\n",
      "9/9 [==============================] - ETA: 0s - loss: 0.6417 - accuracy: 0.8951 \n",
      "Epoch 3: val_accuracy improved from 0.89844 to 0.93750, saving model to detection4.h5\n",
      "9/9 [==============================] - 166s 18s/step - loss: 0.6417 - accuracy: 0.8951 - val_loss: 0.5438 - val_accuracy: 0.9375\n",
      "Epoch 4/50\n",
      "9/9 [==============================] - ETA: 0s - loss: 0.5300 - accuracy: 0.9132 \n",
      "Epoch 4: val_accuracy improved from 0.93750 to 0.94531, saving model to detection4.h5\n",
      "9/9 [==============================] - 160s 18s/step - loss: 0.5300 - accuracy: 0.9132 - val_loss: 0.4154 - val_accuracy: 0.9453\n",
      "Epoch 5/50\n",
      "9/9 [==============================] - ETA: 0s - loss: 0.4563 - accuracy: 0.9322 \n",
      "Epoch 5: val_accuracy did not improve from 0.94531\n",
      "9/9 [==============================] - 159s 18s/step - loss: 0.4563 - accuracy: 0.9322 - val_loss: 0.4037 - val_accuracy: 0.9375\n",
      "Epoch 6/50\n",
      "9/9 [==============================] - ETA: 0s - loss: 0.3970 - accuracy: 0.9332 \n",
      "Epoch 6: val_accuracy did not improve from 0.94531\n",
      "9/9 [==============================] - 170s 19s/step - loss: 0.3970 - accuracy: 0.9332 - val_loss: 0.3768 - val_accuracy: 0.9375\n",
      "Epoch 7/50\n",
      "9/9 [==============================] - ETA: 0s - loss: 0.3738 - accuracy: 0.9204 \n",
      "Epoch 7: val_accuracy improved from 0.94531 to 0.97656, saving model to detection4.h5\n",
      "9/9 [==============================] - 167s 18s/step - loss: 0.3738 - accuracy: 0.9204 - val_loss: 0.2888 - val_accuracy: 0.9766\n",
      "Epoch 8/50\n",
      "9/9 [==============================] - ETA: 0s - loss: 0.3309 - accuracy: 0.9539 \n",
      "Epoch 8: val_accuracy did not improve from 0.97656\n",
      "9/9 [==============================] - 151s 17s/step - loss: 0.3309 - accuracy: 0.9539 - val_loss: 0.3155 - val_accuracy: 0.9531\n",
      "Epoch 9/50\n",
      "9/9 [==============================] - ETA: 0s - loss: 0.3066 - accuracy: 0.9512 \n",
      "Epoch 9: val_accuracy did not improve from 0.97656\n",
      "9/9 [==============================] - 150s 17s/step - loss: 0.3066 - accuracy: 0.9512 - val_loss: 0.3013 - val_accuracy: 0.9688\n",
      "Epoch 10/50\n",
      "9/9 [==============================] - ETA: 0s - loss: 0.3089 - accuracy: 0.9412 \n",
      "Epoch 10: val_accuracy did not improve from 0.97656\n",
      "9/9 [==============================] - 150s 17s/step - loss: 0.3089 - accuracy: 0.9412 - val_loss: 0.2585 - val_accuracy: 0.9531\n",
      "Epoch 11/50\n",
      "9/9 [==============================] - ETA: 0s - loss: 0.2835 - accuracy: 0.9485 \n",
      "Epoch 11: val_accuracy did not improve from 0.97656\n",
      "9/9 [==============================] - 243s 28s/step - loss: 0.2835 - accuracy: 0.9485 - val_loss: 0.2661 - val_accuracy: 0.9609\n",
      "Epoch 12/50\n",
      "9/9 [==============================] - ETA: 0s - loss: 0.2757 - accuracy: 0.9514 \n",
      "Epoch 12: val_accuracy did not improve from 0.97656\n",
      "9/9 [==============================] - 147s 17s/step - loss: 0.2757 - accuracy: 0.9514 - val_loss: 0.2719 - val_accuracy: 0.9531\n",
      "Epoch 13/50\n",
      "9/9 [==============================] - ETA: 0s - loss: 0.2493 - accuracy: 0.9620 \n",
      "Epoch 13: val_accuracy did not improve from 0.97656\n",
      "9/9 [==============================] - 162s 18s/step - loss: 0.2493 - accuracy: 0.9620 - val_loss: 0.2028 - val_accuracy: 0.9766\n",
      "Epoch 14/50\n",
      "9/9 [==============================] - ETA: 0s - loss: 0.2407 - accuracy: 0.9602 \n",
      "Epoch 14: val_accuracy did not improve from 0.97656\n",
      "9/9 [==============================] - 169s 19s/step - loss: 0.2407 - accuracy: 0.9602 - val_loss: 0.2597 - val_accuracy: 0.9453\n",
      "Epoch 15/50\n",
      "9/9 [==============================] - ETA: 0s - loss: 0.2516 - accuracy: 0.9503 \n",
      "Epoch 15: val_accuracy did not improve from 0.97656\n",
      "9/9 [==============================] - 178s 20s/step - loss: 0.2516 - accuracy: 0.9503 - val_loss: 0.2700 - val_accuracy: 0.9297\n",
      "Epoch 16/50\n",
      "9/9 [==============================] - ETA: 0s - loss: 0.2578 - accuracy: 0.9497 \n",
      "Epoch 16: val_accuracy did not improve from 0.97656\n",
      "9/9 [==============================] - 183s 21s/step - loss: 0.2578 - accuracy: 0.9497 - val_loss: 0.2026 - val_accuracy: 0.9609\n",
      "Epoch 17/50\n",
      "9/9 [==============================] - ETA: 0s - loss: 0.2497 - accuracy: 0.9479 \n",
      "Epoch 17: val_accuracy did not improve from 0.97656\n",
      "9/9 [==============================] - 189s 21s/step - loss: 0.2497 - accuracy: 0.9479 - val_loss: 0.1927 - val_accuracy: 0.9766\n",
      "Epoch 18/50\n",
      "9/9 [==============================] - ETA: 0s - loss: 0.2551 - accuracy: 0.9421 \n",
      "Epoch 18: val_accuracy did not improve from 0.97656\n",
      "9/9 [==============================] - 173s 19s/step - loss: 0.2551 - accuracy: 0.9421 - val_loss: 0.2372 - val_accuracy: 0.9688\n",
      "Epoch 19/50\n",
      "9/9 [==============================] - ETA: 0s - loss: 0.2150 - accuracy: 0.9647 \n",
      "Epoch 19: val_accuracy did not improve from 0.97656\n",
      "9/9 [==============================] - 174s 20s/step - loss: 0.2150 - accuracy: 0.9647 - val_loss: 0.2216 - val_accuracy: 0.9766\n",
      "Epoch 20/50\n",
      "9/9 [==============================] - ETA: 0s - loss: 0.2203 - accuracy: 0.9611 \n",
      "Epoch 20: val_accuracy improved from 0.97656 to 0.99219, saving model to detection4.h5\n",
      "9/9 [==============================] - 174s 19s/step - loss: 0.2203 - accuracy: 0.9611 - val_loss: 0.1517 - val_accuracy: 0.9922\n",
      "Epoch 21/50\n",
      "9/9 [==============================] - ETA: 0s - loss: 0.2002 - accuracy: 0.9720 \n",
      "Epoch 21: val_accuracy did not improve from 0.99219\n",
      "9/9 [==============================] - 173s 19s/step - loss: 0.2002 - accuracy: 0.9720 - val_loss: 0.2195 - val_accuracy: 0.9531\n",
      "Epoch 22/50\n",
      "9/9 [==============================] - ETA: 0s - loss: 0.2119 - accuracy: 0.9629 \n",
      "Epoch 22: val_accuracy did not improve from 0.99219\n",
      "9/9 [==============================] - 175s 19s/step - loss: 0.2119 - accuracy: 0.9629 - val_loss: 0.2033 - val_accuracy: 0.9766\n",
      "Epoch 23/50\n",
      "9/9 [==============================] - ETA: 0s - loss: 0.2283 - accuracy: 0.9485 \n",
      "Epoch 23: val_accuracy did not improve from 0.99219\n",
      "9/9 [==============================] - 179s 20s/step - loss: 0.2283 - accuracy: 0.9485 - val_loss: 0.1767 - val_accuracy: 0.9766\n",
      "Epoch 24/50\n",
      "9/9 [==============================] - ETA: 0s - loss: 0.2306 - accuracy: 0.9439 \n",
      "Epoch 24: val_accuracy did not improve from 0.99219\n",
      "9/9 [==============================] - 178s 20s/step - loss: 0.2306 - accuracy: 0.9439 - val_loss: 0.1768 - val_accuracy: 0.9688\n",
      "Epoch 25/50\n",
      "9/9 [==============================] - ETA: 0s - loss: 0.2260 - accuracy: 0.9583 \n",
      "Epoch 25: val_accuracy did not improve from 0.99219\n",
      "9/9 [==============================] - 188s 21s/step - loss: 0.2260 - accuracy: 0.9583 - val_loss: 0.1783 - val_accuracy: 0.9922\n",
      "Epoch 26/50\n",
      "9/9 [==============================] - ETA: 0s - loss: 0.2286 - accuracy: 0.9467 \n",
      "Epoch 26: val_accuracy did not improve from 0.99219\n",
      "9/9 [==============================] - 173s 19s/step - loss: 0.2286 - accuracy: 0.9467 - val_loss: 0.2248 - val_accuracy: 0.9688\n",
      "Epoch 27/50\n",
      "9/9 [==============================] - ETA: 0s - loss: 0.2092 - accuracy: 0.9602 \n",
      "Epoch 27: val_accuracy did not improve from 0.99219\n",
      "9/9 [==============================] - 166s 18s/step - loss: 0.2092 - accuracy: 0.9602 - val_loss: 0.1749 - val_accuracy: 0.9688\n",
      "Epoch 28/50\n",
      "9/9 [==============================] - ETA: 0s - loss: 0.2041 - accuracy: 0.9693 \n",
      "Epoch 28: val_accuracy did not improve from 0.99219\n",
      "9/9 [==============================] - 154s 17s/step - loss: 0.2041 - accuracy: 0.9693 - val_loss: 0.2270 - val_accuracy: 0.9609\n",
      "Epoch 29/50\n",
      "9/9 [==============================] - ETA: 0s - loss: 0.2121 - accuracy: 0.9548 \n",
      "Epoch 29: val_accuracy did not improve from 0.99219\n",
      "9/9 [==============================] - 153s 17s/step - loss: 0.2121 - accuracy: 0.9548 - val_loss: 0.1819 - val_accuracy: 0.9766\n",
      "Epoch 30/50\n"
     ]
    },
    {
     "name": "stdout",
     "output_type": "stream",
     "text": [
      "9/9 [==============================] - ETA: 0s - loss: 0.2186 - accuracy: 0.9575 \n",
      "Epoch 30: val_accuracy did not improve from 0.99219\n",
      "9/9 [==============================] - 151s 17s/step - loss: 0.2186 - accuracy: 0.9575 - val_loss: 0.1738 - val_accuracy: 0.9609\n",
      "Epoch 31/50\n",
      "9/9 [==============================] - ETA: 0s - loss: 0.2148 - accuracy: 0.9521  \n",
      "Epoch 31: val_accuracy did not improve from 0.99219\n",
      "9/9 [==============================] - 1998s 247s/step - loss: 0.2148 - accuracy: 0.9521 - val_loss: 0.2186 - val_accuracy: 0.9531\n",
      "Epoch 32/50\n",
      "9/9 [==============================] - ETA: 0s - loss: 0.2325 - accuracy: 0.9453 \n",
      "Epoch 32: val_accuracy did not improve from 0.99219\n",
      "9/9 [==============================] - 128s 14s/step - loss: 0.2325 - accuracy: 0.9453 - val_loss: 0.1629 - val_accuracy: 0.9922\n",
      "Epoch 33/50\n",
      "9/9 [==============================] - ETA: 0s - loss: 0.2349 - accuracy: 0.9430 \n",
      "Epoch 33: val_accuracy did not improve from 0.99219\n",
      "9/9 [==============================] - 128s 14s/step - loss: 0.2349 - accuracy: 0.9430 - val_loss: 0.1832 - val_accuracy: 0.9766\n",
      "Epoch 34/50\n",
      "9/9 [==============================] - ETA: 0s - loss: 0.2056 - accuracy: 0.9629 \n",
      "Epoch 34: val_accuracy did not improve from 0.99219\n",
      "9/9 [==============================] - 133s 15s/step - loss: 0.2056 - accuracy: 0.9629 - val_loss: 0.2155 - val_accuracy: 0.9609\n",
      "Epoch 35/50\n",
      "9/9 [==============================] - ETA: 0s - loss: 0.1976 - accuracy: 0.9602 \n",
      "Epoch 35: val_accuracy did not improve from 0.99219\n",
      "9/9 [==============================] - 136s 15s/step - loss: 0.1976 - accuracy: 0.9602 - val_loss: 0.2119 - val_accuracy: 0.9609\n",
      "Epoch 36/50\n",
      "9/9 [==============================] - ETA: 0s - loss: 0.1863 - accuracy: 0.9611 \n",
      "Epoch 36: val_accuracy did not improve from 0.99219\n",
      "9/9 [==============================] - 1549s 192s/step - loss: 0.1863 - accuracy: 0.9611 - val_loss: 0.1612 - val_accuracy: 0.9766\n",
      "Epoch 37/50\n",
      "9/9 [==============================] - ETA: 0s - loss: 0.1972 - accuracy: 0.9548  \n",
      "Epoch 37: val_accuracy did not improve from 0.99219\n",
      "9/9 [==============================] - 1726s 104s/step - loss: 0.1972 - accuracy: 0.9548 - val_loss: 0.1539 - val_accuracy: 0.9766\n",
      "Epoch 38/50\n",
      "9/9 [==============================] - ETA: 0s - loss: 0.1947 - accuracy: 0.9557 \n",
      "Epoch 38: val_accuracy did not improve from 0.99219\n",
      "9/9 [==============================] - 132s 14s/step - loss: 0.1947 - accuracy: 0.9557 - val_loss: 0.1944 - val_accuracy: 0.9688\n",
      "Epoch 39/50\n",
      "9/9 [==============================] - ETA: 0s - loss: 0.2029 - accuracy: 0.9593 \n",
      "Epoch 39: val_accuracy did not improve from 0.99219\n",
      "9/9 [==============================] - 135s 16s/step - loss: 0.2029 - accuracy: 0.9593 - val_loss: 0.1305 - val_accuracy: 0.9844\n",
      "Epoch 40/50\n",
      "9/9 [==============================] - ETA: 0s - loss: 0.2023 - accuracy: 0.9575 \n",
      "Epoch 40: val_accuracy did not improve from 0.99219\n",
      "9/9 [==============================] - 152s 17s/step - loss: 0.2023 - accuracy: 0.9575 - val_loss: 0.2074 - val_accuracy: 0.9609\n",
      "Epoch 41/50\n",
      "9/9 [==============================] - ETA: 0s - loss: 0.2040 - accuracy: 0.9503 \n",
      "Epoch 41: val_accuracy did not improve from 0.99219\n",
      "9/9 [==============================] - 187s 21s/step - loss: 0.2040 - accuracy: 0.9503 - val_loss: 0.2355 - val_accuracy: 0.9531\n",
      "Epoch 42/50\n",
      "9/9 [==============================] - ETA: 0s - loss: 0.2164 - accuracy: 0.9539  \n",
      "Epoch 42: val_accuracy did not improve from 0.99219\n",
      "9/9 [==============================] - 2688s 333s/step - loss: 0.2164 - accuracy: 0.9539 - val_loss: 0.1716 - val_accuracy: 0.9609\n",
      "Epoch 43/50\n",
      "9/9 [==============================] - ETA: 0s - loss: 0.2199 - accuracy: 0.9467 \n",
      "Epoch 43: val_accuracy did not improve from 0.99219\n",
      "9/9 [==============================] - 144s 16s/step - loss: 0.2199 - accuracy: 0.9467 - val_loss: 0.1974 - val_accuracy: 0.9688\n",
      "Epoch 44/50\n",
      "9/9 [==============================] - ETA: 0s - loss: 0.2102 - accuracy: 0.9584 \n",
      "Epoch 44: val_accuracy did not improve from 0.99219\n",
      "9/9 [==============================] - 161s 18s/step - loss: 0.2102 - accuracy: 0.9584 - val_loss: 0.1644 - val_accuracy: 0.9766\n",
      "Epoch 45/50\n",
      "9/9 [==============================] - ETA: 0s - loss: 0.2197 - accuracy: 0.9557 \n",
      "Epoch 45: val_accuracy did not improve from 0.99219\n",
      "9/9 [==============================] - 189s 21s/step - loss: 0.2197 - accuracy: 0.9557 - val_loss: 0.2218 - val_accuracy: 0.9531\n",
      "Epoch 46/50\n",
      "9/9 [==============================] - ETA: 0s - loss: 0.2029 - accuracy: 0.9602 \n",
      "Epoch 46: val_accuracy did not improve from 0.99219\n",
      "9/9 [==============================] - 196s 22s/step - loss: 0.2029 - accuracy: 0.9602 - val_loss: 0.1819 - val_accuracy: 0.9688\n",
      "Epoch 47/50\n",
      "9/9 [==============================] - ETA: 0s - loss: 0.1930 - accuracy: 0.9656 \n",
      "Epoch 47: val_accuracy did not improve from 0.99219\n",
      "9/9 [==============================] - 173s 19s/step - loss: 0.1930 - accuracy: 0.9656 - val_loss: 0.1394 - val_accuracy: 0.9844\n",
      "Epoch 48/50\n",
      "9/9 [==============================] - ETA: 0s - loss: 0.1969 - accuracy: 0.9602 \n",
      "Epoch 48: val_accuracy did not improve from 0.99219\n",
      "9/9 [==============================] - 171s 19s/step - loss: 0.1969 - accuracy: 0.9602 - val_loss: 0.2470 - val_accuracy: 0.9453\n",
      "Epoch 49/50\n",
      "9/9 [==============================] - ETA: 0s - loss: 0.1945 - accuracy: 0.9629 \n",
      "Epoch 49: val_accuracy did not improve from 0.99219\n",
      "9/9 [==============================] - 174s 19s/step - loss: 0.1945 - accuracy: 0.9629 - val_loss: 0.2042 - val_accuracy: 0.9531\n",
      "Epoch 50/50\n",
      "9/9 [==============================] - ETA: 0s - loss: 0.1984 - accuracy: 0.9566 \n",
      "Epoch 50: val_accuracy did not improve from 0.99219\n",
      "9/9 [==============================] - 177s 20s/step - loss: 0.1984 - accuracy: 0.9566 - val_loss: 0.1536 - val_accuracy: 0.9766\n",
      "Total time:  15557.064613103867 seconds\n"
     ]
    }
   ],
   "source": [
    "import time\n",
    "start = time.time()\n",
    "history2 = model_eyereg.fit(train_set, epochs=num_epochs, steps_per_epoch=training_steps,validation_data=test_set,\n",
    "                    validation_steps=validation_steps, callbacks = callbacks_list)\n",
    "print(\"Total time: \", time.time() - start, \"seconds\")"
   ]
  },
  {
   "cell_type": "code",
   "execution_count": 44,
   "id": "c72dcccf",
   "metadata": {},
   "outputs": [
    {
     "data": {
      "image/png": "[encoded data removed]",
      "text/plain": [
       "<IPython.core.display.Image object>"
      ]
     },
     "execution_count": 44,
     "metadata": {},
     "output_type": "execute_result"
    }
   ],
   "source": [
    "#plot the model architecture\n",
    "plot_model(model_eyereg, show_shapes=True, to_file='vgg_block.png')"
   ]
  },
  {
   "cell_type": "code",
   "execution_count": 45,
   "id": "122f99d0",
   "metadata": {},
   "outputs": [
    {
     "data": {
      "image/png": "[encoded data removed]",
      "text/plain": [
       "<Figure size 432x288 with 1 Axes>"
      ]
     },
     "metadata": {
      "needs_background": "light"
     },
     "output_type": "display_data"
    },
    {
     "data": {
      "image/png": "[encoded data removed]",
      "text/plain": [
       "<Figure size 432x288 with 1 Axes>"
      ]
     },
     "metadata": {
      "needs_background": "light"
     },
     "output_type": "display_data"
    }
   ],
   "source": [
    "\n",
    "visualize_results(history2)"
   ]
  },
  {
   "cell_type": "markdown",
   "id": "050ab4b3",
   "metadata": {},
   "source": [
    "### Pretrained using VGG-16 (Yawn and No Yawn) without Regularization"
   ]
  },
  {
   "cell_type": "code",
   "execution_count": 46,
   "id": "eea0f58b",
   "metadata": {},
   "outputs": [],
   "source": [
    "#Set the batch size\n",
    "batch_size = 128\n",
    "#Data Augmentation using ImageDataGenerator\n",
    "train_datagen = ImageDataGenerator(horizontal_flip = True, \n",
    "                                  rescale = 1./255, \n",
    "                                  zoom_range = 0.2, \n",
    "                                  validation_split = 0.1)\n",
    "\n",
    "test_datagen = ImageDataGenerator(rescale = 1./255)"
   ]
  },
  {
   "cell_type": "code",
   "execution_count": 47,
   "id": "32f0665d",
   "metadata": {},
   "outputs": [
    {
     "name": "stdout",
     "output_type": "stream",
     "text": [
      "Found 1233 images belonging to 2 classes.\n",
      "Found 215 images belonging to 2 classes.\n"
     ]
    }
   ],
   "source": [
    "train_data_path_2 = 'dataset_yawn/train'\n",
    "test_data_path_2 = 'dataset_yawn/test'\n",
    "\n",
    "train_set = train_datagen.flow_from_directory(train_data_path_2, target_size = (256,256),\n",
    "                                              batch_size = batch_size, \n",
    "                                              #color_mode = 'grayscale',\n",
    "                                              class_mode = 'categorical')\n",
    "\n",
    "test_set = test_datagen.flow_from_directory(test_data_path_2, target_size = (256,256),\n",
    "                                              batch_size = batch_size, \n",
    "                                              #color_mode = 'grayscale',\n",
    "                                              class_mode = 'categorical')"
   ]
  },
  {
   "cell_type": "code",
   "execution_count": 48,
   "id": "08ebb122",
   "metadata": {},
   "outputs": [
    {
     "name": "stdout",
     "output_type": "stream",
     "text": [
      "<keras.engine.input_layer.InputLayer object at 0x7fa11a52e8b0> False\n",
      "<keras.layers.convolutional.Conv2D object at 0x7fa11a2a4b80> False\n",
      "<keras.layers.convolutional.Conv2D object at 0x7fa11a3e1370> False\n",
      "<keras.layers.pooling.MaxPooling2D object at 0x7fa11cad5bb0> False\n",
      "<keras.layers.convolutional.Conv2D object at 0x7fa11cad5fa0> False\n",
      "<keras.layers.convolutional.Conv2D object at 0x7fa11cadb430> False\n",
      "<keras.layers.pooling.MaxPooling2D object at 0x7fa11a16b640> False\n",
      "<keras.layers.convolutional.Conv2D object at 0x7fa11a16b340> False\n",
      "<keras.layers.convolutional.Conv2D object at 0x7facfc005580> False\n",
      "<keras.layers.convolutional.Conv2D object at 0x7fad03624130> False\n",
      "<keras.layers.pooling.MaxPooling2D object at 0x7facfc010f40> False\n",
      "<keras.layers.convolutional.Conv2D object at 0x7fa11cae2130> False\n",
      "<keras.layers.convolutional.Conv2D object at 0x7facfc0425b0> False\n",
      "<keras.layers.convolutional.Conv2D object at 0x7fa11a913700> False\n",
      "<keras.layers.pooling.MaxPooling2D object at 0x7fa11a8ed1c0> False\n",
      "<keras.layers.convolutional.Conv2D object at 0x7fa11ae98c10> False\n",
      "<keras.layers.convolutional.Conv2D object at 0x7fa11a8ed5e0> False\n",
      "<keras.layers.convolutional.Conv2D object at 0x7fa11a8edbe0> False\n",
      "<keras.layers.pooling.MaxPooling2D object at 0x7fa11c23db80> False\n"
     ]
    }
   ],
   "source": [
    "# Initialize the VGG model\n",
    "vgg2 = VGG16(\n",
    "    include_top=False, weights='imagenet', input_tensor=None, input_shape= (256,256,3),\n",
    ")\n",
    "\n",
    "# Freeze all the layers\n",
    "for layer in vgg2.layers[:]:\n",
    "    layer.trainable = False\n",
    "\n",
    "# Check the trainable status of the individual layers\n",
    "for layer in vgg2.layers:\n",
    "    print(layer, layer.trainable)"
   ]
  },
  {
   "cell_type": "code",
   "execution_count": 49,
   "id": "1e84d89f",
   "metadata": {},
   "outputs": [
    {
     "name": "stdout",
     "output_type": "stream",
     "text": [
      "Model: \"sequential_2\"\n",
      "_________________________________________________________________\n",
      " Layer (type)                Output Shape              Param #   \n",
      "=================================================================\n",
      " vgg16 (Functional)          (None, 8, 8, 512)         14714688  \n",
      "                                                                 \n",
      " flatten_2 (Flatten)         (None, 32768)             0         \n",
      "                                                                 \n",
      " dense_4 (Dense)             (None, 64)                2097216   \n",
      "                                                                 \n",
      " dropout_2 (Dropout)         (None, 64)                0         \n",
      "                                                                 \n",
      " dense_5 (Dense)             (None, 2)                 130       \n",
      "                                                                 \n",
      "=================================================================\n",
      "Total params: 16,812,034\n",
      "Trainable params: 2,097,346\n",
      "Non-trainable params: 14,714,688\n",
      "_________________________________________________________________\n"
     ]
    }
   ],
   "source": [
    "classes = 2\n",
    "# Create the model\n",
    "model_yawnnoreg = Sequential()\n",
    "\n",
    "# Add the vgg convolutional base model\n",
    "model_yawnnoreg.add(vgg2)\n",
    "# for layer in vgg.layers[1:]:\n",
    "#     model.add(layer)\n",
    "\n",
    "\n",
    "# Add new layers\n",
    "model_yawnnoreg.add(Flatten())\n",
    "model_yawnnoreg.add(Dense(64, activation='relu', kernel_regularizer=l2(0.01)))\n",
    "model_yawnnoreg.add(Dropout(0.5))\n",
    "model_yawnnoreg.add(Dense(classes, activation='softmax', kernel_regularizer=l2(0.01)))\n",
    "\n",
    "\n",
    "\n",
    "# Show a summary of the model. Check the number of trainable parameters\n",
    "model_yawnnoreg.summary()"
   ]
  },
  {
   "cell_type": "code",
   "execution_count": 50,
   "id": "a0631c2b",
   "metadata": {},
   "outputs": [],
   "source": [
    "# Configure the model for training\n",
    "model_yawnnoreg.compile(loss = 'categorical_crossentropy',optimizer = 'adam' , metrics = ['accuracy'])"
   ]
  },
  {
   "cell_type": "code",
   "execution_count": 51,
   "id": "407b7caa",
   "metadata": {},
   "outputs": [],
   "source": [
    "#Save the model\n",
    "model_yawnnoreg_path=\"detection3.h5\"\n",
    "\n",
    "#Create checkpoint to save a model at some interval so that it can be used for training\n",
    "checkpoint = ModelCheckpoint(model_yawnnoreg_path, monitor='val_accuracy', verbose=1, \n",
    "                              save_best_only=True, mode='max')\n",
    "\n",
    "callbacks_list = [checkpoint]"
   ]
  },
  {
   "cell_type": "code",
   "execution_count": 52,
   "id": "758f52f0",
   "metadata": {},
   "outputs": [],
   "source": [
    "#Define the Number of Iteration\n",
    "num_epochs = 50\n",
    "training_steps=train_set.n//train_set.batch_size\n",
    "validation_steps =test_set.n//test_set.batch_size"
   ]
  },
  {
   "cell_type": "code",
   "execution_count": 53,
   "id": "a62ba773",
   "metadata": {},
   "outputs": [
    {
     "name": "stdout",
     "output_type": "stream",
     "text": [
      "Epoch 1/50\n",
      "9/9 [==============================] - ETA: 0s - loss: 3.5632 - accuracy: 0.5131 \n",
      "Epoch 1: val_accuracy improved from -inf to 0.66406, saving model to detection3.h5\n",
      "9/9 [==============================] - 141s 16s/step - loss: 3.5632 - accuracy: 0.5131 - val_loss: 1.3202 - val_accuracy: 0.6641\n",
      "Epoch 2/50\n",
      "9/9 [==============================] - ETA: 0s - loss: 1.5090 - accuracy: 0.6267 \n",
      "Epoch 2: val_accuracy did not improve from 0.66406\n",
      "9/9 [==============================] - 170s 19s/step - loss: 1.5090 - accuracy: 0.6267 - val_loss: 1.2003 - val_accuracy: 0.6641\n",
      "Epoch 3/50\n",
      "9/9 [==============================] - ETA: 0s - loss: 1.1852 - accuracy: 0.6235 \n",
      "Epoch 3: val_accuracy did not improve from 0.66406\n",
      "9/9 [==============================] - 173s 19s/step - loss: 1.1852 - accuracy: 0.6235 - val_loss: 1.0937 - val_accuracy: 0.6406\n",
      "Epoch 4/50\n",
      "9/9 [==============================] - ETA: 0s - loss: 1.0888 - accuracy: 0.6570 \n",
      "Epoch 4: val_accuracy improved from 0.66406 to 0.68750, saving model to detection3.h5\n",
      "9/9 [==============================] - 191s 21s/step - loss: 1.0888 - accuracy: 0.6570 - val_loss: 1.0063 - val_accuracy: 0.6875\n",
      "Epoch 5/50\n",
      "9/9 [==============================] - ETA: 0s - loss: 0.9859 - accuracy: 0.6489 \n",
      "Epoch 5: val_accuracy improved from 0.68750 to 0.69531, saving model to detection3.h5\n",
      "9/9 [==============================] - 215s 24s/step - loss: 0.9859 - accuracy: 0.6489 - val_loss: 0.9591 - val_accuracy: 0.6953\n",
      "Epoch 6/50\n",
      "9/9 [==============================] - ETA: 0s - loss: 0.9176 - accuracy: 0.6914 \n",
      "Epoch 6: val_accuracy did not improve from 0.69531\n",
      "9/9 [==============================] - 246s 27s/step - loss: 0.9176 - accuracy: 0.6914 - val_loss: 0.9136 - val_accuracy: 0.6172\n",
      "Epoch 7/50\n",
      "9/9 [==============================] - ETA: 0s - loss: 0.8554 - accuracy: 0.7195 \n",
      "Epoch 7: val_accuracy improved from 0.69531 to 0.74219, saving model to detection3.h5\n",
      "9/9 [==============================] - 225s 26s/step - loss: 0.8554 - accuracy: 0.7195 - val_loss: 0.8478 - val_accuracy: 0.7422\n",
      "Epoch 8/50\n",
      "9/9 [==============================] - ETA: 0s - loss: 0.8056 - accuracy: 0.7204 \n",
      "Epoch 8: val_accuracy improved from 0.74219 to 0.79688, saving model to detection3.h5\n",
      "9/9 [==============================] - 167s 19s/step - loss: 0.8056 - accuracy: 0.7204 - val_loss: 0.7816 - val_accuracy: 0.7969\n",
      "Epoch 9/50\n",
      "9/9 [==============================] - ETA: 0s - loss: 0.7587 - accuracy: 0.7222 \n",
      "Epoch 9: val_accuracy improved from 0.79688 to 0.84375, saving model to detection3.h5\n",
      "9/9 [==============================] - 158s 18s/step - loss: 0.7587 - accuracy: 0.7222 - val_loss: 0.7222 - val_accuracy: 0.8438\n",
      "Epoch 10/50\n",
      "9/9 [==============================] - ETA: 0s - loss: 0.7316 - accuracy: 0.7493 \n",
      "Epoch 10: val_accuracy improved from 0.84375 to 0.85938, saving model to detection3.h5\n",
      "9/9 [==============================] - 155s 17s/step - loss: 0.7316 - accuracy: 0.7493 - val_loss: 0.6852 - val_accuracy: 0.8594\n",
      "Epoch 11/50\n",
      "9/9 [==============================] - ETA: 0s - loss: 0.7174 - accuracy: 0.7502  \n",
      "Epoch 11: val_accuracy did not improve from 0.85938\n",
      "9/9 [==============================] - 2090s 259s/step - loss: 0.7174 - accuracy: 0.7502 - val_loss: 0.6905 - val_accuracy: 0.8203\n",
      "Epoch 12/50\n",
      "9/9 [==============================] - ETA: 0s - loss: 0.6889 - accuracy: 0.7692 \n",
      "Epoch 12: val_accuracy did not improve from 0.85938\n",
      "9/9 [==============================] - 12376s 1317s/step - loss: 0.6889 - accuracy: 0.7692 - val_loss: 0.6333 - val_accuracy: 0.8438\n",
      "Epoch 13/50\n",
      "9/9 [==============================] - ETA: 0s - loss: 0.6386 - accuracy: 0.8009  \n",
      "Epoch 13: val_accuracy did not improve from 0.85938\n",
      "9/9 [==============================] - 9453s 432s/step - loss: 0.6386 - accuracy: 0.8009 - val_loss: 0.6232 - val_accuracy: 0.7812\n",
      "Epoch 14/50\n",
      "9/9 [==============================] - ETA: 0s - loss: 0.6436 - accuracy: 0.7810 \n",
      "Epoch 14: val_accuracy did not improve from 0.85938\n",
      "9/9 [==============================] - 140s 16s/step - loss: 0.6436 - accuracy: 0.7810 - val_loss: 0.6235 - val_accuracy: 0.8281\n",
      "Epoch 15/50\n",
      "9/9 [==============================] - ETA: 0s - loss: 0.6123 - accuracy: 0.8081 \n",
      "Epoch 15: val_accuracy did not improve from 0.85938\n",
      "9/9 [==============================] - 135s 15s/step - loss: 0.6123 - accuracy: 0.8081 - val_loss: 0.5967 - val_accuracy: 0.7969\n",
      "Epoch 16/50\n",
      "9/9 [==============================] - ETA: 0s - loss: 0.5934 - accuracy: 0.8118 \n",
      "Epoch 16: val_accuracy improved from 0.85938 to 0.90625, saving model to detection3.h5\n",
      "9/9 [==============================] - 133s 15s/step - loss: 0.5934 - accuracy: 0.8118 - val_loss: 0.5427 - val_accuracy: 0.9062\n",
      "Epoch 17/50\n",
      "9/9 [==============================] - ETA: 0s - loss: 0.5797 - accuracy: 0.8371 \n",
      "Epoch 17: val_accuracy did not improve from 0.90625\n",
      "9/9 [==============================] - 137s 15s/step - loss: 0.5797 - accuracy: 0.8371 - val_loss: 0.5588 - val_accuracy: 0.8281\n",
      "Epoch 18/50\n",
      "9/9 [==============================] - ETA: 0s - loss: 0.5634 - accuracy: 0.8255 \n",
      "Epoch 18: val_accuracy did not improve from 0.90625\n",
      "9/9 [==============================] - 149s 17s/step - loss: 0.5634 - accuracy: 0.8255 - val_loss: 0.5447 - val_accuracy: 0.8906\n",
      "Epoch 19/50\n",
      "9/9 [==============================] - ETA: 0s - loss: 0.5750 - accuracy: 0.8181 \n",
      "Epoch 19: val_accuracy improved from 0.90625 to 0.92969, saving model to detection3.h5\n",
      "9/9 [==============================] - 160s 18s/step - loss: 0.5750 - accuracy: 0.8181 - val_loss: 0.4736 - val_accuracy: 0.9297\n",
      "Epoch 20/50\n",
      "9/9 [==============================] - ETA: 0s - loss: 0.5773 - accuracy: 0.8063 \n",
      "Epoch 20: val_accuracy did not improve from 0.92969\n",
      "9/9 [==============================] - 163s 18s/step - loss: 0.5773 - accuracy: 0.8063 - val_loss: 0.4874 - val_accuracy: 0.9141\n",
      "Epoch 21/50\n",
      "9/9 [==============================] - ETA: 0s - loss: 0.5565 - accuracy: 0.8127 \n",
      "Epoch 21: val_accuracy did not improve from 0.92969\n",
      "9/9 [==============================] - 136s 15s/step - loss: 0.5565 - accuracy: 0.8127 - val_loss: 0.5376 - val_accuracy: 0.9062\n",
      "Epoch 22/50\n",
      "9/9 [==============================] - ETA: 0s - loss: 0.5393 - accuracy: 0.8359 \n",
      "Epoch 22: val_accuracy did not improve from 0.92969\n",
      "9/9 [==============================] - 137s 15s/step - loss: 0.5393 - accuracy: 0.8359 - val_loss: 0.4762 - val_accuracy: 0.9219\n",
      "Epoch 23/50\n",
      "9/9 [==============================] - ETA: 0s - loss: 0.5187 - accuracy: 0.8507 \n",
      "Epoch 23: val_accuracy did not improve from 0.92969\n",
      "9/9 [==============================] - 133s 15s/step - loss: 0.5187 - accuracy: 0.8507 - val_loss: 0.4560 - val_accuracy: 0.9219\n",
      "Epoch 24/50\n",
      "9/9 [==============================] - ETA: 0s - loss: 0.5331 - accuracy: 0.8262 \n",
      "Epoch 24: val_accuracy did not improve from 0.92969\n",
      "9/9 [==============================] - 135s 15s/step - loss: 0.5331 - accuracy: 0.8262 - val_loss: 0.4560 - val_accuracy: 0.9141\n",
      "Epoch 25/50\n",
      "9/9 [==============================] - ETA: 0s - loss: 0.5247 - accuracy: 0.8389 \n",
      "Epoch 25: val_accuracy improved from 0.92969 to 0.93750, saving model to detection3.h5\n",
      "9/9 [==============================] - 136s 15s/step - loss: 0.5247 - accuracy: 0.8389 - val_loss: 0.4398 - val_accuracy: 0.9375\n",
      "Epoch 26/50\n",
      "9/9 [==============================] - ETA: 0s - loss: 0.5162 - accuracy: 0.8317 \n",
      "Epoch 26: val_accuracy did not improve from 0.93750\n",
      "9/9 [==============================] - 137s 15s/step - loss: 0.5162 - accuracy: 0.8317 - val_loss: 0.4689 - val_accuracy: 0.8828\n",
      "Epoch 27/50\n",
      "9/9 [==============================] - ETA: 0s - loss: 0.5083 - accuracy: 0.8290 \n",
      "Epoch 27: val_accuracy did not improve from 0.93750\n",
      "9/9 [==============================] - 138s 15s/step - loss: 0.5083 - accuracy: 0.8290 - val_loss: 0.4588 - val_accuracy: 0.9297\n",
      "Epoch 28/50\n",
      "9/9 [==============================] - ETA: 0s - loss: 0.5142 - accuracy: 0.8452 \n",
      "Epoch 28: val_accuracy did not improve from 0.93750\n",
      "9/9 [==============================] - 135s 15s/step - loss: 0.5142 - accuracy: 0.8452 - val_loss: 0.4717 - val_accuracy: 0.9062\n",
      "Epoch 29/50\n",
      "9/9 [==============================] - ETA: 0s - loss: 0.5173 - accuracy: 0.8317 \n",
      "Epoch 29: val_accuracy did not improve from 0.93750\n",
      "9/9 [==============================] - 135s 15s/step - loss: 0.5173 - accuracy: 0.8317 - val_loss: 0.4424 - val_accuracy: 0.8984\n"
     ]
    },
    {
     "name": "stdout",
     "output_type": "stream",
     "text": [
      "Epoch 30/50\n",
      "9/9 [==============================] - ETA: 0s - loss: 0.5064 - accuracy: 0.8380 \n",
      "Epoch 30: val_accuracy did not improve from 0.93750\n",
      "9/9 [==============================] - 135s 15s/step - loss: 0.5064 - accuracy: 0.8380 - val_loss: 0.4321 - val_accuracy: 0.9062\n",
      "Epoch 31/50\n",
      "9/9 [==============================] - ETA: 0s - loss: 0.4900 - accuracy: 0.8462 \n",
      "Epoch 31: val_accuracy did not improve from 0.93750\n",
      "9/9 [==============================] - 145s 16s/step - loss: 0.4900 - accuracy: 0.8462 - val_loss: 0.4317 - val_accuracy: 0.8984\n",
      "Epoch 32/50\n",
      "9/9 [==============================] - ETA: 0s - loss: 0.5381 - accuracy: 0.8109 \n",
      "Epoch 32: val_accuracy did not improve from 0.93750\n",
      "9/9 [==============================] - 135s 16s/step - loss: 0.5381 - accuracy: 0.8109 - val_loss: 0.4982 - val_accuracy: 0.8984\n",
      "Epoch 33/50\n",
      "9/9 [==============================] - ETA: 0s - loss: 0.5172 - accuracy: 0.8199 \n",
      "Epoch 33: val_accuracy did not improve from 0.93750\n",
      "9/9 [==============================] - 140s 16s/step - loss: 0.5172 - accuracy: 0.8199 - val_loss: 0.4291 - val_accuracy: 0.9219\n",
      "Epoch 34/50\n",
      "9/9 [==============================] - ETA: 0s - loss: 0.4998 - accuracy: 0.8217 \n",
      "Epoch 34: val_accuracy did not improve from 0.93750\n",
      "9/9 [==============================] - 146s 16s/step - loss: 0.4998 - accuracy: 0.8217 - val_loss: 0.4174 - val_accuracy: 0.9219\n",
      "Epoch 35/50\n",
      "9/9 [==============================] - ETA: 0s - loss: 0.4796 - accuracy: 0.8534 \n",
      "Epoch 35: val_accuracy did not improve from 0.93750\n",
      "9/9 [==============================] - 145s 17s/step - loss: 0.4796 - accuracy: 0.8534 - val_loss: 0.4253 - val_accuracy: 0.8906\n",
      "Epoch 36/50\n",
      "9/9 [==============================] - ETA: 0s - loss: 0.4764 - accuracy: 0.8452 \n",
      "Epoch 36: val_accuracy did not improve from 0.93750\n",
      "9/9 [==============================] - 145s 16s/step - loss: 0.4764 - accuracy: 0.8452 - val_loss: 0.4072 - val_accuracy: 0.9297\n",
      "Epoch 37/50\n",
      "9/9 [==============================] - ETA: 0s - loss: 0.4543 - accuracy: 0.8534 \n",
      "Epoch 37: val_accuracy did not improve from 0.93750\n",
      "9/9 [==============================] - 146s 16s/step - loss: 0.4543 - accuracy: 0.8534 - val_loss: 0.4008 - val_accuracy: 0.8750\n",
      "Epoch 38/50\n",
      "9/9 [==============================] - ETA: 0s - loss: 0.4634 - accuracy: 0.8434 \n",
      "Epoch 38: val_accuracy improved from 0.93750 to 0.94531, saving model to detection3.h5\n",
      "9/9 [==============================] - 145s 16s/step - loss: 0.4634 - accuracy: 0.8434 - val_loss: 0.3569 - val_accuracy: 0.9453\n",
      "Epoch 39/50\n",
      "9/9 [==============================] - ETA: 0s - loss: 0.4694 - accuracy: 0.8416 \n",
      "Epoch 39: val_accuracy did not improve from 0.94531\n",
      "9/9 [==============================] - 149s 17s/step - loss: 0.4694 - accuracy: 0.8416 - val_loss: 0.3777 - val_accuracy: 0.9453\n",
      "Epoch 40/50\n",
      "9/9 [==============================] - ETA: 0s - loss: 0.4869 - accuracy: 0.8335 \n",
      "Epoch 40: val_accuracy did not improve from 0.94531\n",
      "9/9 [==============================] - 147s 16s/step - loss: 0.4869 - accuracy: 0.8335 - val_loss: 0.3838 - val_accuracy: 0.9062\n",
      "Epoch 41/50\n",
      "9/9 [==============================] - ETA: 0s - loss: 0.4752 - accuracy: 0.8452 \n",
      "Epoch 41: val_accuracy did not improve from 0.94531\n",
      "9/9 [==============================] - 148s 16s/step - loss: 0.4752 - accuracy: 0.8452 - val_loss: 0.3999 - val_accuracy: 0.9297\n",
      "Epoch 42/50\n",
      "9/9 [==============================] - ETA: 0s - loss: 0.4426 - accuracy: 0.8552 \n",
      "Epoch 42: val_accuracy improved from 0.94531 to 0.96875, saving model to detection3.h5\n",
      "9/9 [==============================] - 148s 16s/step - loss: 0.4426 - accuracy: 0.8552 - val_loss: 0.3297 - val_accuracy: 0.9688\n",
      "Epoch 43/50\n",
      "9/9 [==============================] - ETA: 0s - loss: 0.4197 - accuracy: 0.8688 \n",
      "Epoch 43: val_accuracy did not improve from 0.96875\n",
      "9/9 [==============================] - 146s 17s/step - loss: 0.4197 - accuracy: 0.8688 - val_loss: 0.3444 - val_accuracy: 0.9609\n",
      "Epoch 44/50\n",
      "9/9 [==============================] - ETA: 0s - loss: 0.4519 - accuracy: 0.8570 \n",
      "Epoch 44: val_accuracy did not improve from 0.96875\n",
      "9/9 [==============================] - 149s 17s/step - loss: 0.4519 - accuracy: 0.8570 - val_loss: 0.4335 - val_accuracy: 0.8516\n",
      "Epoch 45/50\n",
      "9/9 [==============================] - ETA: 0s - loss: 0.4594 - accuracy: 0.8516 \n",
      "Epoch 45: val_accuracy did not improve from 0.96875\n",
      "9/9 [==============================] - 145s 16s/step - loss: 0.4594 - accuracy: 0.8516 - val_loss: 0.3982 - val_accuracy: 0.9062\n",
      "Epoch 46/50\n",
      "9/9 [==============================] - ETA: 0s - loss: 0.4565 - accuracy: 0.8471 \n",
      "Epoch 46: val_accuracy did not improve from 0.96875\n",
      "9/9 [==============================] - 146s 16s/step - loss: 0.4565 - accuracy: 0.8471 - val_loss: 0.3401 - val_accuracy: 0.9609\n",
      "Epoch 47/50\n",
      "9/9 [==============================] - ETA: 0s - loss: 0.4320 - accuracy: 0.8550 \n",
      "Epoch 47: val_accuracy did not improve from 0.96875\n",
      "9/9 [==============================] - 152s 17s/step - loss: 0.4320 - accuracy: 0.8550 - val_loss: 0.3309 - val_accuracy: 0.9453\n",
      "Epoch 48/50\n",
      "9/9 [==============================] - ETA: 0s - loss: 0.4227 - accuracy: 0.8570 \n",
      "Epoch 48: val_accuracy did not improve from 0.96875\n",
      "9/9 [==============================] - 147s 17s/step - loss: 0.4227 - accuracy: 0.8570 - val_loss: 0.3281 - val_accuracy: 0.9531\n",
      "Epoch 49/50\n",
      "9/9 [==============================] - ETA: 0s - loss: 0.4327 - accuracy: 0.8615 \n",
      "Epoch 49: val_accuracy did not improve from 0.96875\n",
      "9/9 [==============================] - 147s 16s/step - loss: 0.4327 - accuracy: 0.8615 - val_loss: 0.3667 - val_accuracy: 0.9297\n",
      "Epoch 50/50\n",
      "9/9 [==============================] - ETA: 0s - loss: 0.4176 - accuracy: 0.8606 \n",
      "Epoch 50: val_accuracy did not improve from 0.96875\n",
      "9/9 [==============================] - 147s 16s/step - loss: 0.4176 - accuracy: 0.8606 - val_loss: 0.3410 - val_accuracy: 0.9375\n",
      "Total time:  31058.325766801834 seconds\n"
     ]
    }
   ],
   "source": [
    "import time\n",
    "start = time.time()\n",
    "history3 = model_yawnnoreg.fit(train_set, epochs=num_epochs, steps_per_epoch=training_steps,validation_data=test_set,\n",
    "                    validation_steps=validation_steps, callbacks = callbacks_list)\n",
    "print(\"Total time: \", time.time() - start, \"seconds\")"
   ]
  },
  {
   "cell_type": "code",
   "execution_count": 54,
   "id": "f6ed1ef6",
   "metadata": {},
   "outputs": [
    {
     "data": {
      "image/png": "[encoded data removed]",
      "text/plain": [
       "<Figure size 432x288 with 1 Axes>"
      ]
     },
     "metadata": {
      "needs_background": "light"
     },
     "output_type": "display_data"
    },
    {
     "data": {
      "image/png": "[encoded data removed]",
      "text/plain": [
       "<Figure size 432x288 with 1 Axes>"
      ]
     },
     "metadata": {
      "needs_background": "light"
     },
     "output_type": "display_data"
    }
   ],
   "source": [
    "#Visualize the results\n",
    "visualize_results(history3)"
   ]
  },
  {
   "cell_type": "markdown",
   "id": "06ae83ed",
   "metadata": {},
   "source": [
    " ### Pretrained using VGG-16 (Yawn and No Yawn) with Regularization"
   ]
  },
  {
   "cell_type": "code",
   "execution_count": 55,
   "id": "8931ce1f",
   "metadata": {},
   "outputs": [
    {
     "name": "stdout",
     "output_type": "stream",
     "text": [
      "Model: \"sequential_3\"\n",
      "_________________________________________________________________\n",
      " Layer (type)                Output Shape              Param #   \n",
      "=================================================================\n",
      " vgg16 (Functional)          (None, 8, 8, 512)         14714688  \n",
      "                                                                 \n",
      " flatten_3 (Flatten)         (None, 32768)             0         \n",
      "                                                                 \n",
      " dense_6 (Dense)             (None, 64)                2097216   \n",
      "                                                                 \n",
      " dropout_3 (Dropout)         (None, 64)                0         \n",
      "                                                                 \n",
      " dense_7 (Dense)             (None, 2)                 130       \n",
      "                                                                 \n",
      "=================================================================\n",
      "Total params: 16,812,034\n",
      "Trainable params: 2,097,346\n",
      "Non-trainable params: 14,714,688\n",
      "_________________________________________________________________\n"
     ]
    }
   ],
   "source": [
    "classes = 2\n",
    "# Create the model\n",
    "model_yawnreg = Sequential()\n",
    "\n",
    "# Add the vgg convolutional base model\n",
    "model_yawnreg.add(vgg2)\n",
    "# for layer in vgg.layers[1:]:\n",
    "#     model.add(layer)\n",
    "\n",
    "\n",
    "# Add new layers\n",
    "model_yawnreg.add(Flatten())\n",
    "model_yawnreg.add(Dense(64, activation='relu', kernel_regularizer=l2(0.01)))\n",
    "model_yawnreg.add(Dropout(0.5))\n",
    "model_yawnreg.add(Dense(classes, activation='softmax', kernel_regularizer=l2(0.01)))\n",
    "\n",
    "\n",
    "\n",
    "# Show a summary of the model. Check the number of trainable parameters\n",
    "model_yawnreg.summary()"
   ]
  },
  {
   "cell_type": "code",
   "execution_count": 56,
   "id": "e3f6da4d",
   "metadata": {},
   "outputs": [],
   "source": [
    "# Configure the model for training\n",
    "model_yawnreg.compile(loss = 'categorical_crossentropy',optimizer = 'adam' , metrics = ['accuracy'])"
   ]
  },
  {
   "cell_type": "code",
   "execution_count": 61,
   "id": "cf7ac8b5",
   "metadata": {},
   "outputs": [],
   "source": [
    "#Save the model\n",
    "model_yawnreg_path=\"detection4.h5\"\n",
    "\n",
    "#Create checkpoint to save a model at some interval so that it can be used for training\n",
    "checkpoint = ModelCheckpoint(model_yawnreg_path, monitor='val_accuracy', verbose=1, \n",
    "                              save_best_only=True, mode='max')\n",
    "\n",
    "callbacks_list = [checkpoint]"
   ]
  },
  {
   "cell_type": "code",
   "execution_count": 62,
   "id": "3422deff",
   "metadata": {},
   "outputs": [],
   "source": [
    "#Define the Number of Iteration\n",
    "num_epochs = 50\n",
    "training_steps=train_set.n//train_set.batch_size\n",
    "validation_steps =test_set.n//test_set.batch_size"
   ]
  },
  {
   "cell_type": "code",
   "execution_count": 63,
   "id": "8d8455e5",
   "metadata": {},
   "outputs": [
    {
     "name": "stdout",
     "output_type": "stream",
     "text": [
      "Epoch 1/50\n",
      "9/9 [==============================] - ETA: 0s - loss: 2.4664 - accuracy: 0.5475 \n",
      "Epoch 1: val_accuracy improved from -inf to 0.58594, saving model to detection4.h5\n",
      "9/9 [==============================] - 124s 13s/step - loss: 2.4664 - accuracy: 0.5475 - val_loss: 1.2603 - val_accuracy: 0.5859\n",
      "Epoch 2/50\n",
      "9/9 [==============================] - ETA: 0s - loss: 1.2811 - accuracy: 0.6027 \n",
      "Epoch 2: val_accuracy improved from 0.58594 to 0.69531, saving model to detection4.h5\n",
      "9/9 [==============================] - 124s 14s/step - loss: 1.2811 - accuracy: 0.6027 - val_loss: 1.1264 - val_accuracy: 0.6953\n",
      "Epoch 3/50\n",
      "9/9 [==============================] - ETA: 0s - loss: 1.1080 - accuracy: 0.6226 \n",
      "Epoch 3: val_accuracy did not improve from 0.69531\n",
      "9/9 [==============================] - 134s 15s/step - loss: 1.1080 - accuracy: 0.6226 - val_loss: 1.0377 - val_accuracy: 0.6641\n",
      "Epoch 4/50\n",
      "9/9 [==============================] - ETA: 0s - loss: 0.9982 - accuracy: 0.6534 \n",
      "Epoch 4: val_accuracy improved from 0.69531 to 0.71875, saving model to detection4.h5\n",
      "9/9 [==============================] - 140s 15s/step - loss: 0.9982 - accuracy: 0.6534 - val_loss: 0.9132 - val_accuracy: 0.7188\n",
      "Epoch 5/50\n",
      "9/9 [==============================] - ETA: 0s - loss: 0.9015 - accuracy: 0.6805 \n",
      "Epoch 5: val_accuracy did not improve from 0.71875\n",
      "9/9 [==============================] - 147s 16s/step - loss: 0.9015 - accuracy: 0.6805 - val_loss: 0.8671 - val_accuracy: 0.6641\n",
      "Epoch 6/50\n",
      "9/9 [==============================] - ETA: 0s - loss: 0.8368 - accuracy: 0.6977 \n",
      "Epoch 6: val_accuracy improved from 0.71875 to 0.74219, saving model to detection4.h5\n",
      "9/9 [==============================] - 151s 17s/step - loss: 0.8368 - accuracy: 0.6977 - val_loss: 0.7666 - val_accuracy: 0.7422\n",
      "Epoch 7/50\n",
      "9/9 [==============================] - ETA: 0s - loss: 0.7824 - accuracy: 0.7014 \n",
      "Epoch 7: val_accuracy improved from 0.74219 to 0.83594, saving model to detection4.h5\n",
      "9/9 [==============================] - 152s 17s/step - loss: 0.7824 - accuracy: 0.7014 - val_loss: 0.7407 - val_accuracy: 0.8359\n",
      "Epoch 8/50\n",
      "9/9 [==============================] - ETA: 0s - loss: 0.7360 - accuracy: 0.7113 \n",
      "Epoch 8: val_accuracy improved from 0.83594 to 0.85938, saving model to detection4.h5\n",
      "9/9 [==============================] - 151s 17s/step - loss: 0.7360 - accuracy: 0.7113 - val_loss: 0.6586 - val_accuracy: 0.8594\n",
      "Epoch 9/50\n",
      "9/9 [==============================] - ETA: 0s - loss: 0.7066 - accuracy: 0.7204 \n",
      "Epoch 9: val_accuracy improved from 0.85938 to 0.89062, saving model to detection4.h5\n",
      "9/9 [==============================] - 158s 18s/step - loss: 0.7066 - accuracy: 0.7204 - val_loss: 0.6140 - val_accuracy: 0.8906\n",
      "Epoch 10/50\n",
      "9/9 [==============================] - ETA: 0s - loss: 0.6758 - accuracy: 0.7149 \n",
      "Epoch 10: val_accuracy did not improve from 0.89062\n",
      "9/9 [==============================] - 153s 17s/step - loss: 0.6758 - accuracy: 0.7149 - val_loss: 0.6034 - val_accuracy: 0.8828\n",
      "Epoch 11/50\n",
      "9/9 [==============================] - ETA: 0s - loss: 0.6351 - accuracy: 0.7378 \n",
      "Epoch 11: val_accuracy improved from 0.89062 to 0.90625, saving model to detection4.h5\n",
      "9/9 [==============================] - 162s 18s/step - loss: 0.6351 - accuracy: 0.7378 - val_loss: 0.5790 - val_accuracy: 0.9062\n",
      "Epoch 12/50\n",
      "9/9 [==============================] - ETA: 0s - loss: 0.6090 - accuracy: 0.7511 \n",
      "Epoch 12: val_accuracy did not improve from 0.90625\n",
      "9/9 [==============================] - 156s 18s/step - loss: 0.6090 - accuracy: 0.7511 - val_loss: 0.5297 - val_accuracy: 0.8828\n",
      "Epoch 13/50\n",
      "9/9 [==============================] - ETA: 0s - loss: 0.6054 - accuracy: 0.7548 \n",
      "Epoch 13: val_accuracy did not improve from 0.90625\n",
      "9/9 [==============================] - 157s 17s/step - loss: 0.6054 - accuracy: 0.7548 - val_loss: 0.5187 - val_accuracy: 0.9062\n",
      "Epoch 14/50\n",
      "9/9 [==============================] - ETA: 0s - loss: 0.6119 - accuracy: 0.7357 \n",
      "Epoch 14: val_accuracy did not improve from 0.90625\n",
      "9/9 [==============================] - 155s 17s/step - loss: 0.6119 - accuracy: 0.7357 - val_loss: 0.5077 - val_accuracy: 0.8516\n",
      "Epoch 15/50\n",
      "9/9 [==============================] - ETA: 0s - loss: 0.5947 - accuracy: 0.7647 \n",
      "Epoch 15: val_accuracy improved from 0.90625 to 0.91406, saving model to detection4.h5\n",
      "9/9 [==============================] - 156s 17s/step - loss: 0.5947 - accuracy: 0.7647 - val_loss: 0.4674 - val_accuracy: 0.9141\n",
      "Epoch 16/50\n",
      "9/9 [==============================] - ETA: 0s - loss: 0.5958 - accuracy: 0.7602 \n",
      "Epoch 16: val_accuracy did not improve from 0.91406\n",
      "9/9 [==============================] - 154s 17s/step - loss: 0.5958 - accuracy: 0.7602 - val_loss: 0.4737 - val_accuracy: 0.8906\n",
      "Epoch 17/50\n",
      "9/9 [==============================] - ETA: 0s - loss: 0.5352 - accuracy: 0.7819 \n",
      "Epoch 17: val_accuracy improved from 0.91406 to 0.93750, saving model to detection4.h5\n",
      "9/9 [==============================] - 152s 17s/step - loss: 0.5352 - accuracy: 0.7819 - val_loss: 0.4148 - val_accuracy: 0.9375\n",
      "Epoch 18/50\n",
      "9/9 [==============================] - ETA: 0s - loss: 0.5311 - accuracy: 0.7810 \n",
      "Epoch 18: val_accuracy did not improve from 0.93750\n",
      "9/9 [==============================] - 150s 17s/step - loss: 0.5311 - accuracy: 0.7810 - val_loss: 0.4525 - val_accuracy: 0.8984\n",
      "Epoch 19/50\n",
      "9/9 [==============================] - ETA: 0s - loss: 0.5283 - accuracy: 0.7819 \n",
      "Epoch 19: val_accuracy did not improve from 0.93750\n",
      "9/9 [==============================] - 152s 17s/step - loss: 0.5283 - accuracy: 0.7819 - val_loss: 0.4720 - val_accuracy: 0.8828\n",
      "Epoch 20/50\n",
      "9/9 [==============================] - ETA: 0s - loss: 0.5558 - accuracy: 0.7647 \n",
      "Epoch 20: val_accuracy did not improve from 0.93750\n",
      "9/9 [==============================] - 149s 17s/step - loss: 0.5558 - accuracy: 0.7647 - val_loss: 0.4530 - val_accuracy: 0.8984\n",
      "Epoch 21/50\n",
      "9/9 [==============================] - ETA: 0s - loss: 0.5369 - accuracy: 0.7710 \n",
      "Epoch 21: val_accuracy did not improve from 0.93750\n",
      "9/9 [==============================] - 149s 17s/step - loss: 0.5369 - accuracy: 0.7710 - val_loss: 0.5092 - val_accuracy: 0.8672\n",
      "Epoch 22/50\n",
      "9/9 [==============================] - ETA: 0s - loss: 0.5252 - accuracy: 0.7738 \n",
      "Epoch 22: val_accuracy did not improve from 0.93750\n",
      "9/9 [==============================] - 150s 17s/step - loss: 0.5252 - accuracy: 0.7738 - val_loss: 0.4471 - val_accuracy: 0.9375\n",
      "Epoch 23/50\n",
      "9/9 [==============================] - ETA: 0s - loss: 0.5163 - accuracy: 0.7729 \n",
      "Epoch 23: val_accuracy improved from 0.93750 to 0.95312, saving model to detection4.h5\n",
      "9/9 [==============================] - 150s 17s/step - loss: 0.5163 - accuracy: 0.7729 - val_loss: 0.3949 - val_accuracy: 0.9531\n",
      "Epoch 24/50\n",
      "9/9 [==============================] - ETA: 0s - loss: 0.4871 - accuracy: 0.7937 \n",
      "Epoch 24: val_accuracy did not improve from 0.95312\n",
      "9/9 [==============================] - 150s 17s/step - loss: 0.4871 - accuracy: 0.7937 - val_loss: 0.3919 - val_accuracy: 0.9531\n",
      "Epoch 25/50\n",
      "9/9 [==============================] - ETA: 0s - loss: 0.5090 - accuracy: 0.7756 \n",
      "Epoch 25: val_accuracy did not improve from 0.95312\n",
      "9/9 [==============================] - 151s 17s/step - loss: 0.5090 - accuracy: 0.7756 - val_loss: 0.3836 - val_accuracy: 0.9297\n",
      "Epoch 26/50\n",
      "9/9 [==============================] - ETA: 0s - loss: 0.5098 - accuracy: 0.7656 \n",
      "Epoch 26: val_accuracy did not improve from 0.95312\n",
      "9/9 [==============================] - 165s 18s/step - loss: 0.5098 - accuracy: 0.7656 - val_loss: 0.4527 - val_accuracy: 0.9141\n",
      "Epoch 27/50\n",
      "9/9 [==============================] - ETA: 0s - loss: 0.5270 - accuracy: 0.7674 \n",
      "Epoch 27: val_accuracy did not improve from 0.95312\n",
      "9/9 [==============================] - 181s 20s/step - loss: 0.5270 - accuracy: 0.7674 - val_loss: 0.3636 - val_accuracy: 0.9453\n",
      "Epoch 28/50\n",
      "9/9 [==============================] - ETA: 0s - loss: 0.5013 - accuracy: 0.7928 \n",
      "Epoch 28: val_accuracy improved from 0.95312 to 0.96094, saving model to detection4.h5\n",
      "9/9 [==============================] - 165s 19s/step - loss: 0.5013 - accuracy: 0.7928 - val_loss: 0.3545 - val_accuracy: 0.9609\n",
      "Epoch 29/50\n"
     ]
    },
    {
     "name": "stdout",
     "output_type": "stream",
     "text": [
      "9/9 [==============================] - ETA: 0s - loss: 0.4744 - accuracy: 0.8009 \n",
      "Epoch 29: val_accuracy improved from 0.96094 to 0.96875, saving model to detection4.h5\n",
      "9/9 [==============================] - 179s 21s/step - loss: 0.4744 - accuracy: 0.8009 - val_loss: 0.3053 - val_accuracy: 0.9688\n",
      "Epoch 30/50\n",
      "9/9 [==============================] - ETA: 0s - loss: 0.4906 - accuracy: 0.7960 \n",
      "Epoch 30: val_accuracy did not improve from 0.96875\n",
      "9/9 [==============================] - 196s 22s/step - loss: 0.4906 - accuracy: 0.7960 - val_loss: 0.3055 - val_accuracy: 0.9375\n",
      "Epoch 31/50\n",
      "9/9 [==============================] - ETA: 0s - loss: 0.5111 - accuracy: 0.7864 \n",
      "Epoch 31: val_accuracy did not improve from 0.96875\n",
      "9/9 [==============================] - 175s 19s/step - loss: 0.5111 - accuracy: 0.7864 - val_loss: 0.3113 - val_accuracy: 0.9297\n",
      "Epoch 32/50\n",
      "9/9 [==============================] - ETA: 0s - loss: 0.4685 - accuracy: 0.8118 \n",
      "Epoch 32: val_accuracy did not improve from 0.96875\n",
      "9/9 [==============================] - 173s 20s/step - loss: 0.4685 - accuracy: 0.8118 - val_loss: 0.3113 - val_accuracy: 0.9297\n",
      "Epoch 33/50\n",
      "9/9 [==============================] - ETA: 0s - loss: 0.4729 - accuracy: 0.8018 \n",
      "Epoch 33: val_accuracy did not improve from 0.96875\n",
      "9/9 [==============================] - 166s 18s/step - loss: 0.4729 - accuracy: 0.8018 - val_loss: 0.3608 - val_accuracy: 0.9688\n",
      "Epoch 34/50\n",
      "9/9 [==============================] - ETA: 0s - loss: 0.4574 - accuracy: 0.8163 \n",
      "Epoch 34: val_accuracy did not improve from 0.96875\n",
      "9/9 [==============================] - 159s 18s/step - loss: 0.4574 - accuracy: 0.8163 - val_loss: 0.3425 - val_accuracy: 0.9453\n",
      "Epoch 35/50\n",
      "9/9 [==============================] - ETA: 0s - loss: 0.4810 - accuracy: 0.8045 \n",
      "Epoch 35: val_accuracy did not improve from 0.96875\n",
      "9/9 [==============================] - 159s 18s/step - loss: 0.4810 - accuracy: 0.8045 - val_loss: 0.3192 - val_accuracy: 0.9609\n",
      "Epoch 36/50\n",
      "9/9 [==============================] - ETA: 0s - loss: 0.4812 - accuracy: 0.7819 \n",
      "Epoch 36: val_accuracy did not improve from 0.96875\n",
      "9/9 [==============================] - 158s 18s/step - loss: 0.4812 - accuracy: 0.7819 - val_loss: 0.3145 - val_accuracy: 0.9453\n",
      "Epoch 37/50\n",
      "9/9 [==============================] - ETA: 0s - loss: 0.4774 - accuracy: 0.8012 \n",
      "Epoch 37: val_accuracy did not improve from 0.96875\n",
      "9/9 [==============================] - 173s 19s/step - loss: 0.4774 - accuracy: 0.8012 - val_loss: 0.3724 - val_accuracy: 0.8906\n",
      "Epoch 38/50\n",
      "9/9 [==============================] - ETA: 0s - loss: 0.4528 - accuracy: 0.8090 \n",
      "Epoch 38: val_accuracy did not improve from 0.96875\n",
      "9/9 [==============================] - 172s 20s/step - loss: 0.4528 - accuracy: 0.8090 - val_loss: 0.3041 - val_accuracy: 0.9609\n",
      "Epoch 39/50\n",
      "9/9 [==============================] - ETA: 0s - loss: 0.4494 - accuracy: 0.7982 \n",
      "Epoch 39: val_accuracy did not improve from 0.96875\n",
      "9/9 [==============================] - 181s 20s/step - loss: 0.4494 - accuracy: 0.7982 - val_loss: 0.2697 - val_accuracy: 0.9688\n",
      "Epoch 40/50\n",
      "9/9 [==============================] - ETA: 0s - loss: 0.4515 - accuracy: 0.8127 \n",
      "Epoch 40: val_accuracy did not improve from 0.96875\n",
      "9/9 [==============================] - 172s 19s/step - loss: 0.4515 - accuracy: 0.8127 - val_loss: 0.3322 - val_accuracy: 0.9297\n",
      "Epoch 41/50\n",
      "9/9 [==============================] - ETA: 0s - loss: 0.4350 - accuracy: 0.8163 \n",
      "Epoch 41: val_accuracy did not improve from 0.96875\n",
      "9/9 [==============================] - 174s 19s/step - loss: 0.4350 - accuracy: 0.8163 - val_loss: 0.3221 - val_accuracy: 0.9375\n",
      "Epoch 42/50\n",
      "9/9 [==============================] - ETA: 0s - loss: 0.4309 - accuracy: 0.8317 \n",
      "Epoch 42: val_accuracy did not improve from 0.96875\n",
      "9/9 [==============================] - 174s 19s/step - loss: 0.4309 - accuracy: 0.8317 - val_loss: 0.3202 - val_accuracy: 0.9219\n",
      "Epoch 43/50\n",
      "9/9 [==============================] - ETA: 0s - loss: 0.4574 - accuracy: 0.7946 \n",
      "Epoch 43: val_accuracy did not improve from 0.96875\n",
      "9/9 [==============================] - 193s 23s/step - loss: 0.4574 - accuracy: 0.7946 - val_loss: 0.3064 - val_accuracy: 0.9375\n",
      "Epoch 44/50\n",
      "9/9 [==============================] - ETA: 0s - loss: 0.4435 - accuracy: 0.8063 \n",
      "Epoch 44: val_accuracy did not improve from 0.96875\n",
      "9/9 [==============================] - 186s 21s/step - loss: 0.4435 - accuracy: 0.8063 - val_loss: 0.3136 - val_accuracy: 0.9141\n",
      "Epoch 45/50\n",
      "9/9 [==============================] - ETA: 0s - loss: 0.4228 - accuracy: 0.8425 \n",
      "Epoch 45: val_accuracy did not improve from 0.96875\n",
      "9/9 [==============================] - 187s 21s/step - loss: 0.4228 - accuracy: 0.8425 - val_loss: 0.2945 - val_accuracy: 0.9297\n",
      "Epoch 46/50\n",
      "9/9 [==============================] - ETA: 0s - loss: 0.4420 - accuracy: 0.8308 \n",
      "Epoch 46: val_accuracy did not improve from 0.96875\n",
      "9/9 [==============================] - 177s 20s/step - loss: 0.4420 - accuracy: 0.8308 - val_loss: 0.3980 - val_accuracy: 0.8906\n",
      "Epoch 47/50\n",
      "9/9 [==============================] - ETA: 0s - loss: 0.4555 - accuracy: 0.8145 \n",
      "Epoch 47: val_accuracy did not improve from 0.96875\n",
      "9/9 [==============================] - 180s 20s/step - loss: 0.4555 - accuracy: 0.8145 - val_loss: 0.2717 - val_accuracy: 0.9375\n",
      "Epoch 48/50\n",
      "9/9 [==============================] - ETA: 0s - loss: 0.4550 - accuracy: 0.8235 \n",
      "Epoch 48: val_accuracy did not improve from 0.96875\n",
      "9/9 [==============================] - 180s 20s/step - loss: 0.4550 - accuracy: 0.8235 - val_loss: 0.3031 - val_accuracy: 0.9531\n",
      "Epoch 49/50\n",
      "9/9 [==============================] - ETA: 0s - loss: 0.4443 - accuracy: 0.8208 \n",
      "Epoch 49: val_accuracy did not improve from 0.96875\n",
      "9/9 [==============================] - 181s 21s/step - loss: 0.4443 - accuracy: 0.8208 - val_loss: 0.2824 - val_accuracy: 0.9609\n",
      "Epoch 50/50\n",
      "9/9 [==============================] - ETA: 0s - loss: 0.4285 - accuracy: 0.8244 \n",
      "Epoch 50: val_accuracy did not improve from 0.96875\n",
      "9/9 [==============================] - 172s 19s/step - loss: 0.4285 - accuracy: 0.8244 - val_loss: 0.2785 - val_accuracy: 0.9531\n",
      "Total time:  8133.123527288437 seconds\n"
     ]
    }
   ],
   "source": [
    "import time\n",
    "start = time.time()\n",
    "history_4 = model_yawnreg.fit(train_set, epochs=num_epochs, steps_per_epoch=training_steps,validation_data=test_set,\n",
    "                    validation_steps=validation_steps, callbacks = callbacks_list)\n",
    "print(\"Total time: \", time.time() - start, \"seconds\")"
   ]
  },
  {
   "cell_type": "code",
   "execution_count": 64,
   "id": "728c2032",
   "metadata": {},
   "outputs": [
    {
     "data": {
      "image/png": "[encoded data removed]",
      "text/plain": [
       "<Figure size 432x288 with 1 Axes>"
      ]
     },
     "metadata": {
      "needs_background": "light"
     },
     "output_type": "display_data"
    },
    {
     "data": {
      "image/png": "[encoded data removed]",
      "text/plain": [
       "<Figure size 432x288 with 1 Axes>"
      ]
     },
     "metadata": {
      "needs_background": "light"
     },
     "output_type": "display_data"
    }
   ],
   "source": [
    "#Visualize the results\n",
    "visualize_results(history_4)"
   ]
  },
  {
   "cell_type": "code",
   "execution_count": null,
   "id": "de474a0d-fa2a-4525-8376-88aa03a5cf12",
   "metadata": {},
   "outputs": [],
   "source": []
  }
 ],
 "metadata": {
  "kernelspec": {
   "display_name": "Python 3 (ipykernel)",
   "language": "python",
   "name": "python3"
  },
  "language_info": {
   "codemirror_mode": {
    "name": "ipython",
    "version": 3
   },
   "file_extension": ".py",
   "mimetype": "text/x-python",
   "name": "python",
   "nbconvert_exporter": "python",
   "pygments_lexer": "ipython3",
   "version": "3.9.7"
  }
 },
 "nbformat": 4,
 "nbformat_minor": 5
}
